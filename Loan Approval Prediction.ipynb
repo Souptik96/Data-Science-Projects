{
 "cells": [
  {
   "cell_type": "markdown",
   "id": "cfd0bb17",
   "metadata": {},
   "source": [
    "## The company seeks to automate (in real time) the loan qualifying procedure based on information given by customers while filling out an online application form. It is expected that the development of ML models that can help the company predict loan approval in accelerating decision-making process for determining whether an applicant is eligible for a loan or not."
   ]
  },
  {
   "cell_type": "markdown",
   "id": "49c6ea34",
   "metadata": {},
   "source": [
    "### Loan approval prediction involves the analysis of various factors, such as the applicant’s financial history, income, credit rating, employment status, and other relevant attributes. By leveraging historical loan data and applying machine learning algorithms, businesses can build models to determine loan approvals for new applicants."
   ]
  },
  {
   "cell_type": "markdown",
   "id": "83e1ab05",
   "metadata": {},
   "source": [
    "## Objectives of Notebook 📌\n",
    "\n",
    "👉 This notebook aims to: \n",
    "    - Analyze customer data provided in data set (EDA) and,\n",
    "    - Build various ML models that can predict loan approval\n",
    "\n",
    "👨‍💻 The machine learning models used in this project are:\n",
    "\n",
    "1. Logistic Regression\n",
    "2. K-Nearest Neighbour (KNN)\n",
    "3. Support Vector Machine (SVM)\n",
    "4. Naive Bayes\n",
    "5. Decision Tree\n",
    "6. Random Forest\n",
    "7. Gradient Boost"
   ]
  },
  {
   "cell_type": "markdown",
   "id": "b64354ec",
   "metadata": {},
   "source": [
    "### Let's start by importing our favorite libs:"
   ]
  },
  {
   "cell_type": "code",
   "execution_count": null,
   "id": "8792b853",
   "metadata": {},
   "outputs": [],
   "source": [
    "import numpy as np\n",
    "import pandas as pd\n",
    "import matplotlib.pyplot as plt\n",
    "import missingno as mso\n",
    "import seaborn as sns\n",
    "import warnings\n",
    "import os\n",
    "import scipy\n",
    "\n",
    "from scipy import stats\n",
    "from scipy.stats import pearsonr\n",
    "from scipy.stats import ttest_ind\n",
    "from sklearn.metrics import classification_report\n",
    "from sklearn.metrics import confusion_matrix\n",
    "from sklearn.preprocessing import MinMaxScaler\n",
    "from sklearn.model_selection import train_test_split\n",
    "from imblearn.over_sampling import SMOTE\n",
    "\n",
    "from sklearn.linear_model import LogisticRegression\n",
    "from sklearn.neighbors import KNeighborsClassifier\n",
    "from sklearn.svm import SVC\n",
    "from sklearn.naive_bayes import CategoricalNB\n",
    "from sklearn.naive_bayes import GaussianNB\n",
    "from sklearn.tree import DecisionTreeClassifier\n",
    "from sklearn.ensemble import RandomForestClassifier\n",
    "from sklearn.ensemble import GradientBoostingClassifier\n",
    "from xgboost import XGBClassifier\n",
    "from sklearn.model_selection import GridSearchCV, RandomizedSearchCV"
   ]
  },
  {
   "cell_type": "markdown",
   "id": "9ce7119c",
   "metadata": {},
   "source": [
    "### Loading dataset:"
   ]
  },
  {
   "cell_type": "code",
   "execution_count": null,
   "id": "b24613d1",
   "metadata": {},
   "outputs": [],
   "source": [
    "import os\n",
    "\n",
    "new_directory = 'C://Users//Souptik/Desktop/machine learning and data science/Datasets'\n",
    "os.chdir(new_directory)"
   ]
  },
  {
   "cell_type": "code",
   "execution_count": null,
   "id": "d9b83220",
   "metadata": {},
   "outputs": [],
   "source": [
    "df = pd.read_csv(\"loan_prediction.csv\")\n",
    "df.head()"
   ]
  },
  {
   "cell_type": "markdown",
   "id": "4f9ba863",
   "metadata": {},
   "source": [
    "Removing the Loan_ID column, as it is of no help."
   ]
  },
  {
   "cell_type": "code",
   "execution_count": null,
   "id": "a94f6462",
   "metadata": {},
   "outputs": [],
   "source": [
    "df = df.drop('Loan_ID', axis=1)"
   ]
  },
  {
   "cell_type": "code",
   "execution_count": null,
   "id": "b9d082c1",
   "metadata": {},
   "outputs": [],
   "source": [
    "df.isnull().sum()"
   ]
  },
  {
   "cell_type": "code",
   "execution_count": null,
   "id": "2c5b6750",
   "metadata": {},
   "outputs": [],
   "source": [
    "print(df.describe())"
   ]
  },
  {
   "cell_type": "markdown",
   "id": "512b5efa",
   "metadata": {},
   "source": [
    "### Now let’s fill in the missing values. In categorical columns, we can fill in missing values with the mode of each column. The mode represents the value that appears most often in the column and is an appropriate choice when dealing with categorical data:"
   ]
  },
  {
   "cell_type": "code",
   "execution_count": null,
   "id": "76f767c1",
   "metadata": {},
   "outputs": [],
   "source": [
    "# Fill missing values in categorical columns with mode\n",
    "df['Gender'].fillna(df['Gender'].mode()[0], inplace=True)\n",
    "df['Married'].fillna(df['Married'].mode()[0], inplace=True)\n",
    "df['Dependents'].fillna(df['Dependents'].mode()[0], inplace=True)\n",
    "df['Self_Employed'].fillna(df['Self_Employed'].mode()[0], inplace=True)"
   ]
  },
  {
   "cell_type": "code",
   "execution_count": null,
   "id": "153a3dbf",
   "metadata": {},
   "outputs": [],
   "source": [
    "df.isnull().sum()"
   ]
  },
  {
   "cell_type": "markdown",
   "id": "55d2f63c",
   "metadata": {},
   "source": [
    "#### So LoanAmount, Loan_Amount_Term and Credit_History are still empty. To fill in the missing values of numerical columns, we have to choose appropriate measures:\n",
    "\n",
    "#### I am using the median value for filling up the Loan_Amount column. The median is an appropriate measure to fill in missing values when dealing with skewed distributions or when outliers are present in the data;\n",
    "\n",
    "#### I am using mode value of the column for missing Loan_Amount_Term and Credit_History. Since the term of the loan amount is a discrete value, the mode is an appropriate metric to use."
   ]
  },
  {
   "cell_type": "code",
   "execution_count": null,
   "id": "32e72c3f",
   "metadata": {},
   "outputs": [],
   "source": [
    "# Fill missing values in LoanAmount with the median\n",
    "df['LoanAmount'].fillna(df['LoanAmount'].median(), inplace=True)\n",
    "\n",
    "# Fill missing values in Loan_Amount_Term with the mode\n",
    "df['Loan_Amount_Term'].fillna(df['Loan_Amount_Term'].mode()[0], inplace=True)\n",
    "\n",
    "# Fill missing values in Credit_History with the mode\n",
    "df['Credit_History'].fillna(df['Credit_History'].mode()[0], inplace=True)"
   ]
  },
  {
   "cell_type": "markdown",
   "id": "8ec140d7",
   "metadata": {},
   "source": [
    "## EDA:"
   ]
  },
  {
   "cell_type": "markdown",
   "id": "879da3c2",
   "metadata": {},
   "source": [
    "### Part 1: Categorical Variable:"
   ]
  },
  {
   "cell_type": "markdown",
   "id": "dc9426ec",
   "metadata": {},
   "source": [
    "#### 1. Let's check the gender distribution:"
   ]
  },
  {
   "cell_type": "code",
   "execution_count": null,
   "id": "bda03c56",
   "metadata": {},
   "outputs": [],
   "source": [
    "df.Gender.value_counts(dropna=False)"
   ]
  },
  {
   "cell_type": "code",
   "execution_count": null,
   "id": "3d191e8d",
   "metadata": {},
   "outputs": [],
   "source": [
    "sns.countplot(x=\"Gender\", data=df, palette=\"hls\")\n",
    "plt.show()"
   ]
  },
  {
   "cell_type": "markdown",
   "id": "2e28dded",
   "metadata": {},
   "source": [
    "#### 2. What's the %?"
   ]
  },
  {
   "cell_type": "code",
   "execution_count": null,
   "id": "4f7d82ff",
   "metadata": {},
   "outputs": [],
   "source": [
    "countMale = len(df[df.Gender == 'Male'])\n",
    "countFemale = len(df[df.Gender == 'Female'])\n",
    "countNull = len(df[df.Gender.isnull()])\n",
    "\n",
    "print(\"Percentage of Male applicant: {:.2f}%\".format((countMale / (len(df.Gender))*100)))\n",
    "print(\"Percentage of Female applicant: {:.2f}%\".format((countFemale / (len(df.Gender))*100)))\n",
    "print(\"Missing values percentage: {:.2f}%\".format((countNull / (len(df.Gender))*100)))"
   ]
  },
  {
   "cell_type": "markdown",
   "id": "022b039d",
   "metadata": {},
   "source": [
    "#### 3. Marital Status:"
   ]
  },
  {
   "cell_type": "code",
   "execution_count": null,
   "id": "62b41e40",
   "metadata": {},
   "outputs": [],
   "source": [
    "df.Married.value_counts(dropna=False)"
   ]
  },
  {
   "cell_type": "code",
   "execution_count": null,
   "id": "11db33dc",
   "metadata": {},
   "outputs": [],
   "source": [
    "sns.countplot(x=\"Married\", data=df, palette=\"Paired\")\n",
    "plt.show()"
   ]
  },
  {
   "cell_type": "code",
   "execution_count": null,
   "id": "7d9e7ed0",
   "metadata": {},
   "outputs": [],
   "source": [
    "countMarried = len(df[df.Married == 'Yes'])\n",
    "countNotMarried = len(df[df.Married == 'No'])\n",
    "countNull = len(df[df.Married.isnull()])\n",
    "\n",
    "print(\"Percentage of married: {:.2f}%\".format((countMarried / (len(df.Married))*100)))\n",
    "print(\"Percentage of Not married applicant: {:.2f}%\".format((countNotMarried / (len(df.Married))*100)))\n",
    "print(\"Missing values percentage: {:.2f}%\".format((countNull / (len(df.Married))*100)))"
   ]
  },
  {
   "cell_type": "markdown",
   "id": "e57af084",
   "metadata": {},
   "source": [
    "#### The number of applicants that has been married is higher compared to applicants that hasn't married."
   ]
  },
  {
   "cell_type": "markdown",
   "id": "5082de83",
   "metadata": {},
   "source": [
    "#### 4. Education Status:"
   ]
  },
  {
   "cell_type": "code",
   "execution_count": null,
   "id": "56e0f40a",
   "metadata": {},
   "outputs": [],
   "source": [
    "df.Education.value_counts(dropna=False)"
   ]
  },
  {
   "cell_type": "code",
   "execution_count": null,
   "id": "e525f47c",
   "metadata": {},
   "outputs": [],
   "source": [
    "sns.countplot(x=\"Education\", data=df, palette=\"rocket\")\n",
    "plt.show()"
   ]
  },
  {
   "cell_type": "code",
   "execution_count": null,
   "id": "5b695bd5",
   "metadata": {},
   "outputs": [],
   "source": [
    "countGraduate = len(df[df.Education == 'Graduate'])\n",
    "countNotGraduate = len(df[df.Education == 'Not Graduate'])\n",
    "countNull = len(df[df.Education.isnull()])\n",
    "\n",
    "print(\"Percentage of graduate applicant: {:.2f}%\".format((countGraduate / (len(df.Education))*100)))\n",
    "print(\"Percentage of Not graduate applicant: {:.2f}%\".format((countNotGraduate / (len(df.Education))*100)))\n",
    "print(\"Missing values percentage: {:.2f}%\".format((countNull / (len(df.Education))*100)))"
   ]
  },
  {
   "cell_type": "markdown",
   "id": "65883375",
   "metadata": {},
   "source": [
    "#### So, graduate applicants are higher in number. This is fair, as banks prefer graduates over non-grads when it comes to loans."
   ]
  },
  {
   "cell_type": "markdown",
   "id": "54b90e88",
   "metadata": {},
   "source": [
    "#### 5. Employment Status:"
   ]
  },
  {
   "cell_type": "code",
   "execution_count": null,
   "id": "7fa32e0a",
   "metadata": {},
   "outputs": [],
   "source": [
    "df.Self_Employed.value_counts(dropna=False)"
   ]
  },
  {
   "cell_type": "code",
   "execution_count": null,
   "id": "870f5621",
   "metadata": {},
   "outputs": [],
   "source": [
    "sns.countplot(x=\"Self_Employed\", data=df, palette=\"crest\")\n",
    "plt.show()"
   ]
  },
  {
   "cell_type": "code",
   "execution_count": null,
   "id": "a9e65ff0",
   "metadata": {},
   "outputs": [],
   "source": [
    "countNo = len(df[df.Self_Employed == 'No'])\n",
    "countYes = len(df[df.Self_Employed == 'Yes'])\n",
    "countNull = len(df[df.Self_Employed.isnull()])\n",
    "\n",
    "print(\"Percentage of Not self employed: {:.2f}%\".format((countNo / (len(df.Self_Employed))*100)))\n",
    "print(\"Percentage of self employed: {:.2f}%\".format((countYes / (len(df.Self_Employed))*100)))\n",
    "print(\"Missing values percentage: {:.2f}%\".format((countNull / (len(df.Self_Employed))*100)))"
   ]
  },
  {
   "cell_type": "markdown",
   "id": "5ff94d3e",
   "metadata": {},
   "source": [
    "#### The number of applicants that are not self employed is higher compared to applicants that are self employed. This possibly implies that self-employed people are business owners."
   ]
  },
  {
   "cell_type": "markdown",
   "id": "f45e298a",
   "metadata": {},
   "source": [
    "#### 6. Credit History"
   ]
  },
  {
   "cell_type": "code",
   "execution_count": null,
   "id": "b9db861b",
   "metadata": {},
   "outputs": [],
   "source": [
    "df.Credit_History.value_counts(dropna=False)"
   ]
  },
  {
   "cell_type": "code",
   "execution_count": null,
   "id": "707505f1",
   "metadata": {},
   "outputs": [],
   "source": [
    "sns.countplot(x=\"Credit_History\", data=df, palette=\"viridis\")\n",
    "plt.show()"
   ]
  },
  {
   "cell_type": "code",
   "execution_count": null,
   "id": "4430d0e4",
   "metadata": {},
   "outputs": [],
   "source": [
    "count1 = len(df[df.Credit_History == 1])\n",
    "count0 = len(df[df.Credit_History == 0])\n",
    "countNull = len(df[df.Credit_History.isnull()])\n",
    "\n",
    "print(\"Percentage of Good credit history: {:.2f}%\".format((count1 / (len(df.Credit_History))*100)))\n",
    "print(\"Percentage of Bad credit history: {:.2f}%\".format((count0 / (len(df.Credit_History))*100)))\n",
    "print(\"Missing values percentage: {:.2f}%\".format((countNull / (len(df.Credit_History))*100)))"
   ]
  },
  {
   "cell_type": "markdown",
   "id": "141e3454",
   "metadata": {},
   "source": [
    "#### The number of applicants that have good credit history is higher compared to applicants that have bad credit history."
   ]
  },
  {
   "cell_type": "markdown",
   "id": "463a0811",
   "metadata": {},
   "source": [
    "#### 7. Property Area"
   ]
  },
  {
   "cell_type": "code",
   "execution_count": null,
   "id": "07c3abc9",
   "metadata": {},
   "outputs": [],
   "source": [
    "df.Property_Area.value_counts(dropna=False)"
   ]
  },
  {
   "cell_type": "code",
   "execution_count": null,
   "id": "e824e8aa",
   "metadata": {},
   "outputs": [],
   "source": [
    "sns.countplot(x=\"Property_Area\", data=df, palette=\"cubehelix\")\n",
    "plt.show()"
   ]
  },
  {
   "cell_type": "code",
   "execution_count": null,
   "id": "1ae43c0e",
   "metadata": {},
   "outputs": [],
   "source": [
    "countUrban = len(df[df.Property_Area == 'Urban'])\n",
    "countRural = len(df[df.Property_Area == 'Rural'])\n",
    "countSemiurban = len(df[df.Property_Area == 'Semiurban'])\n",
    "countNull = len(df[df.Property_Area.isnull()])\n",
    "\n",
    "print(\"Percentage of Urban: {:.2f}%\".format((countUrban / (len(df.Property_Area))*100)))\n",
    "print(\"Percentage of Rural: {:.2f}%\".format((countRural / (len(df.Property_Area))*100)))\n",
    "print(\"Percentage of Semiurban: {:.2f}%\".format((countSemiurban / (len(df.Property_Area))*100)))\n",
    "print(\"Missing values percentage: {:.2f}%\".format((countNull / (len(df.Property_Area))*100)))"
   ]
  },
  {
   "cell_type": "markdown",
   "id": "ba339d65",
   "metadata": {},
   "source": [
    "#### 8. Loan Status"
   ]
  },
  {
   "cell_type": "code",
   "execution_count": null,
   "id": "d268aa36",
   "metadata": {},
   "outputs": [],
   "source": [
    "df.Loan_Status.value_counts(dropna=False)"
   ]
  },
  {
   "cell_type": "code",
   "execution_count": null,
   "id": "7c9054a7",
   "metadata": {},
   "outputs": [],
   "source": [
    "sns.countplot(x=\"Loan_Status\", data=df, palette=\"YlOrBr\")\n",
    "plt.show()"
   ]
  },
  {
   "cell_type": "code",
   "execution_count": null,
   "id": "3cfb0228",
   "metadata": {},
   "outputs": [],
   "source": [
    "countY = len(df[df.Loan_Status == 'Y'])\n",
    "countN = len(df[df.Loan_Status == 'N'])\n",
    "countNull = len(df[df.Loan_Status.isnull()])\n",
    "\n",
    "print(\"Percentage of Approved: {:.2f}%\".format((countY / (len(df.Loan_Status))*100)))\n",
    "print(\"Percentage of Rejected: {:.2f}%\".format((countN / (len(df.Loan_Status))*100)))\n",
    "print(\"Missing values percentage: {:.2f}%\".format((countNull / (len(df.Loan_Status))*100)))"
   ]
  },
  {
   "cell_type": "markdown",
   "id": "c2d4b430",
   "metadata": {},
   "source": [
    "#### The number of approved loans is higher compared to rejected loans ."
   ]
  },
  {
   "cell_type": "markdown",
   "id": "8b377dc9",
   "metadata": {},
   "source": [
    "#### 9. Loan Amount Term"
   ]
  },
  {
   "cell_type": "code",
   "execution_count": null,
   "id": "37966f82",
   "metadata": {},
   "outputs": [],
   "source": [
    "df.Loan_Amount_Term.value_counts(dropna=False)"
   ]
  },
  {
   "cell_type": "code",
   "execution_count": null,
   "id": "78252a30",
   "metadata": {},
   "outputs": [],
   "source": [
    "sns.countplot(x=\"Loan_Amount_Term\", data=df, palette=\"rocket\")\n",
    "plt.show()"
   ]
  },
  {
   "cell_type": "code",
   "execution_count": null,
   "id": "8ff18084",
   "metadata": {},
   "outputs": [],
   "source": [
    "count12 = len(df[df.Loan_Amount_Term == 12.0])\n",
    "count36 = len(df[df.Loan_Amount_Term == 36.0])\n",
    "count60 = len(df[df.Loan_Amount_Term == 60.0])\n",
    "count84 = len(df[df.Loan_Amount_Term == 84.0])\n",
    "count120 = len(df[df.Loan_Amount_Term == 120.0])\n",
    "count180 = len(df[df.Loan_Amount_Term == 180.0])\n",
    "count240 = len(df[df.Loan_Amount_Term == 240.0])\n",
    "count300 = len(df[df.Loan_Amount_Term == 300.0])\n",
    "count360 = len(df[df.Loan_Amount_Term == 360.0])\n",
    "count480 = len(df[df.Loan_Amount_Term == 480.0])\n",
    "countNull = len(df[df.Loan_Amount_Term.isnull()])\n",
    "\n",
    "print(\"Percentage of 12: {:.2f}%\".format((count12 / (len(df.Loan_Amount_Term))*100)))\n",
    "print(\"Percentage of 36: {:.2f}%\".format((count36 / (len(df.Loan_Amount_Term))*100)))\n",
    "print(\"Percentage of 60: {:.2f}%\".format((count60 / (len(df.Loan_Amount_Term))*100)))\n",
    "print(\"Percentage of 84: {:.2f}%\".format((count84 / (len(df.Loan_Amount_Term))*100)))\n",
    "print(\"Percentage of 120: {:.2f}%\".format((count120 / (len(df.Loan_Amount_Term))*100)))\n",
    "print(\"Percentage of 180: {:.2f}%\".format((count180 / (len(df.Loan_Amount_Term))*100)))\n",
    "print(\"Percentage of 240: {:.2f}%\".format((count240 / (len(df.Loan_Amount_Term))*100)))\n",
    "print(\"Percentage of 300: {:.2f}%\".format((count300 / (len(df.Loan_Amount_Term))*100)))\n",
    "print(\"Percentage of 360: {:.2f}%\".format((count360 / (len(df.Loan_Amount_Term))*100)))\n",
    "print(\"Percentage of 480: {:.2f}%\".format((count480 / (len(df.Loan_Amount_Term))*100)))\n",
    "print(\"Missing values percentage: {:.2f}%\".format((countNull / (len(df.Loan_Amount_Term))*100)))"
   ]
  },
  {
   "cell_type": "markdown",
   "id": "036c65d2",
   "metadata": {},
   "source": [
    "#### As can be seen from the results, the 360 days loan duration is the most popular compared to others."
   ]
  },
  {
   "cell_type": "markdown",
   "id": "6c2acdcb",
   "metadata": {},
   "source": [
    "### Part 2: Numerical Variable:"
   ]
  },
  {
   "cell_type": "markdown",
   "id": "21dbf1c0",
   "metadata": {},
   "source": [
    "#### 1. Describe Numerical Variable"
   ]
  },
  {
   "cell_type": "code",
   "execution_count": null,
   "id": "82557748",
   "metadata": {},
   "outputs": [],
   "source": [
    "df[['ApplicantIncome','CoapplicantIncome','LoanAmount']].describe()"
   ]
  },
  {
   "cell_type": "markdown",
   "id": "30555578",
   "metadata": {},
   "source": [
    "#### 2. Distribution:"
   ]
  },
  {
   "cell_type": "markdown",
   "id": "132685a6",
   "metadata": {},
   "source": [
    "#### 2.1 Histogram:"
   ]
  },
  {
   "cell_type": "code",
   "execution_count": null,
   "id": "243332cb",
   "metadata": {},
   "outputs": [],
   "source": [
    "sns.set(style=\"darkgrid\")\n",
    "fig, axs = plt.subplots(2, 2, figsize=(10, 8))\n",
    "\n",
    "sns.histplot(data=df, x=\"ApplicantIncome\", kde=True, ax=axs[0, 0], color='green')\n",
    "sns.histplot(data=df, x=\"CoapplicantIncome\", kde=True, ax=axs[0, 1], color='skyblue')\n",
    "sns.histplot(data=df, x=\"LoanAmount\", kde=True, ax=axs[1, 0], color='orange');"
   ]
  },
  {
   "cell_type": "markdown",
   "id": "58c61701",
   "metadata": {},
   "source": [
    "#### 2.2 Violin Plot"
   ]
  },
  {
   "cell_type": "code",
   "execution_count": null,
   "id": "3e26afcd",
   "metadata": {},
   "outputs": [],
   "source": [
    "sns.set(style=\"darkgrid\")\n",
    "fig, axs1 = plt.subplots(2, 2, figsize=(10, 10))\n",
    "\n",
    "sns.violinplot(data=df, y=\"ApplicantIncome\", ax=axs1[0, 0], color='green')\n",
    "sns.violinplot(data=df, y=\"CoapplicantIncome\", ax=axs1[0, 1], color='skyblue')\n",
    "sns.violinplot(data=df, y=\"LoanAmount\", ax=axs1[1, 0], color='orange');"
   ]
  },
  {
   "cell_type": "markdown",
   "id": "b090fe58",
   "metadata": {},
   "source": [
    "#### Findings:\n",
    "    a) The distribution of Applicant income, Co Applicant Income, and Loan Amount are positively skewed and it has outliers (can be seen from both histogram and violin plot).\n",
    "    b) The distribution of Loan Amount Term is negativly skewed and it has outliers."
   ]
  },
  {
   "cell_type": "markdown",
   "id": "d1e382f6",
   "metadata": {},
   "source": [
    "### Part 3: Additional"
   ]
  },
  {
   "cell_type": "markdown",
   "id": "b5f05c05",
   "metadata": {},
   "source": [
    "#### 3.1: Heatmap"
   ]
  },
  {
   "cell_type": "code",
   "execution_count": null,
   "id": "70a5fd33",
   "metadata": {},
   "outputs": [],
   "source": [
    "plt.figure(figsize=(8,5))\n",
    "sns.heatmap(df.corr(), annot=True, cmap='inferno');"
   ]
  },
  {
   "cell_type": "markdown",
   "id": "a9db7aaf",
   "metadata": {},
   "source": [
    "#### Hence, there is positive correlation between Loan Amount and Applicant Income."
   ]
  },
  {
   "cell_type": "markdown",
   "id": "a582ab33",
   "metadata": {},
   "source": [
    "#### 3.2: Categorical"
   ]
  },
  {
   "cell_type": "code",
   "execution_count": null,
   "id": "c857e288",
   "metadata": {},
   "outputs": [],
   "source": [
    "pd.crosstab(df.Gender,df.Married).plot(kind=\"bar\", stacked=True, figsize=(5,5), color=['#f64f59','#12c2e9'])\n",
    "plt.title('Gender vs Married')\n",
    "plt.xlabel('Gender')\n",
    "plt.ylabel('Frequency')\n",
    "plt.xticks(rotation=0)\n",
    "plt.show()"
   ]
  },
  {
   "cell_type": "markdown",
   "id": "8cb54c65",
   "metadata": {},
   "source": [
    "#### Clearly, most male applicants are already married compared to female applicants. Also, the number of not married male applicants are higher compare to female applicants that had not married."
   ]
  },
  {
   "cell_type": "code",
   "execution_count": null,
   "id": "fd408908",
   "metadata": {},
   "outputs": [],
   "source": [
    "pd.crosstab(df.Self_Employed,df.Credit_History).plot(kind=\"bar\", stacked=True, figsize=(5,5), color=['#544a7d','#ffd452'])\n",
    "plt.title('Self Employed vs Credit History')\n",
    "plt.xlabel('Self Employed')\n",
    "plt.ylabel('Frequency')\n",
    "plt.legend([\"Bad Credit\", \"Good Credit\"])\n",
    "plt.xticks(rotation=0)\n",
    "plt.show()"
   ]
  },
  {
   "cell_type": "markdown",
   "id": "0da45f4a",
   "metadata": {},
   "source": [
    "#### Most self employed applicants have good credit compared to not self employed applicants."
   ]
  },
  {
   "cell_type": "code",
   "execution_count": null,
   "id": "da55d5b3",
   "metadata": {},
   "outputs": [],
   "source": [
    "pd.crosstab(df.Property_Area,df.Loan_Status).plot(kind=\"bar\", stacked=True, figsize=(5,5), color=['#333333','#dd1818'])\n",
    "plt.title('Property Area vs Loan Status')\n",
    "plt.xlabel('Property Area')\n",
    "plt.ylabel('Frequency')\n",
    "plt.xticks(rotation=0)\n",
    "plt.show()"
   ]
  },
  {
   "cell_type": "markdown",
   "id": "7ad26c9b",
   "metadata": {},
   "source": [
    "#### Most of loan that got accepted has property in Semiurban compared to Urban and Rural."
   ]
  },
  {
   "cell_type": "markdown",
   "id": "7c8c280f",
   "metadata": {},
   "source": [
    "#### 3.3: Categorical 📊- Numerical 📈"
   ]
  },
  {
   "cell_type": "code",
   "execution_count": null,
   "id": "165f6a55",
   "metadata": {},
   "outputs": [],
   "source": [
    "sns.set(style=\"darkgrid\")\n",
    "\n",
    "fig, axs = plt.subplots(1, 3, figsize=(15, 5))\n",
    "\n",
    "sns.boxplot(x=\"Loan_Status\", y=\"ApplicantIncome\", data=df, palette=\"mako\", ax=axs[0])\n",
    "sns.boxplot(x=\"Loan_Status\", y=\"CoapplicantIncome\", data=df, palette=\"rocket\", ax=axs[1])\n",
    "sns.boxplot(x=\"Loan_Status\", y=\"LoanAmount\", data=df, palette=\"YlOrBr\", ax=axs[2])\n",
    "\n",
    "axs[0].set_title(\"Applicant Income\")\n",
    "axs[1].set_title(\"Coapplicant Income\")\n",
    "axs[2].set_title(\"Loan Amount\")\n",
    "\n",
    "plt.tight_layout()  # Adjust the spacing between subplots\n",
    "plt.show()"
   ]
  },
  {
   "cell_type": "markdown",
   "id": "96732c26",
   "metadata": {},
   "source": [
    "#### It can be seen that there are lots of outliers in Applicant Income, and the distribution also positively skewed. Also, it's clear that Co Applicant Income has a number of outliers, and the distribution is also positively skewed."
   ]
  },
  {
   "cell_type": "markdown",
   "id": "d5953566",
   "metadata": {},
   "source": [
    "#### 3.4: Numerical - Numerical"
   ]
  },
  {
   "cell_type": "code",
   "execution_count": null,
   "id": "fcc3558a",
   "metadata": {},
   "outputs": [],
   "source": [
    "df.plot(x='ApplicantIncome', y='CoapplicantIncome', style='o')  \n",
    "plt.title('Applicant Income - Co Applicant Income')  \n",
    "plt.xlabel('ApplicantIncome')\n",
    "plt.ylabel('CoapplicantIncome')  \n",
    "plt.show()\n",
    "print('Pearson correlation:', df['ApplicantIncome'].corr(df['CoapplicantIncome']))\n",
    "print('T Test and P value: \\n', stats.ttest_ind(df['ApplicantIncome'], df['CoapplicantIncome']))"
   ]
  },
  {
   "cell_type": "markdown",
   "id": "d951cbd2",
   "metadata": {},
   "source": [
    "#### There is negative correlation between Applicant income and Co Applicant Income.\n",
    "#### The correlation coefficient is significant at the 95 per cent confidence interval, as it has a p-value of 1.46"
   ]
  },
  {
   "cell_type": "markdown",
   "id": "cb7b05a1",
   "metadata": {},
   "source": [
    "### Data Preprocessing"
   ]
  },
  {
   "cell_type": "markdown",
   "id": "8ecfcc97",
   "metadata": {},
   "source": [
    "#### => One-hot Encoding"
   ]
  },
  {
   "cell_type": "code",
   "execution_count": null,
   "id": "536c1743",
   "metadata": {},
   "outputs": [],
   "source": [
    "df = pd.get_dummies(df)\n",
    "\n",
    "# Drop columns\n",
    "df = df.drop(['Gender_Female', 'Married_No', 'Education_Not Graduate', \n",
    "              'Self_Employed_No', 'Loan_Status_N'], axis = 1)\n",
    "\n",
    "# Rename columns name\n",
    "new = {'Gender_Male': 'Gender', 'Married_Yes': 'Married', \n",
    "       'Education_Graduate': 'Education', 'Self_Employed_Yes': 'Self_Employed',\n",
    "       'Loan_Status_Y': 'Loan_Status'}\n",
    "       \n",
    "df.rename(columns=new, inplace=True)"
   ]
  },
  {
   "cell_type": "markdown",
   "id": "6d71d354",
   "metadata": {},
   "source": [
    "#### => Removing Outliers & Infinite values"
   ]
  },
  {
   "cell_type": "code",
   "execution_count": null,
   "id": "ff0eeda0",
   "metadata": {},
   "outputs": [],
   "source": [
    "Q1 = df.quantile(0.25)\n",
    "Q3 = df.quantile(0.75)\n",
    "IQR = Q3 - Q1\n",
    "\n",
    "df = df[~((df < (Q1 - 1.5 * IQR)) |(df > (Q3 + 1.5 * IQR))).any(axis=1)]"
   ]
  },
  {
   "cell_type": "markdown",
   "id": "d27546bc",
   "metadata": {},
   "source": [
    "#### => Skewed Distribution Treatment"
   ]
  },
  {
   "cell_type": "code",
   "execution_count": null,
   "id": "8d8c1bc3",
   "metadata": {},
   "outputs": [],
   "source": [
    "# Square Root Transformation\n",
    "\n",
    "df.ApplicantIncome = np.sqrt(df.ApplicantIncome)\n",
    "df.CoapplicantIncome = np.sqrt(df.CoapplicantIncome)\n",
    "df.LoanAmount = np.sqrt(df.LoanAmount)"
   ]
  },
  {
   "cell_type": "code",
   "execution_count": null,
   "id": "622f9c45",
   "metadata": {},
   "outputs": [],
   "source": [
    "sns.set(style=\"darkgrid\")\n",
    "fig, axs = plt.subplots(2, 2, figsize=(10, 8))\n",
    "\n",
    "sns.histplot(data=df, x=\"ApplicantIncome\", kde=True, ax=axs[0, 0], color='green')\n",
    "sns.histplot(data=df, x=\"CoapplicantIncome\", kde=True, ax=axs[0, 1], color='skyblue')\n",
    "sns.histplot(data=df, x=\"LoanAmount\", kde=True, ax=axs[1, 0], color='orange');"
   ]
  },
  {
   "cell_type": "markdown",
   "id": "e1e67552",
   "metadata": {},
   "source": [
    "#### This looks much better than the original."
   ]
  },
  {
   "cell_type": "markdown",
   "id": "462a3459",
   "metadata": {},
   "source": [
    "#### => Separating features"
   ]
  },
  {
   "cell_type": "code",
   "execution_count": null,
   "id": "fb5ff5af",
   "metadata": {},
   "outputs": [],
   "source": [
    "X = df.drop([\"Loan_Status\"], axis=1)\n",
    "y = df[\"Loan_Status\"]"
   ]
  },
  {
   "cell_type": "markdown",
   "id": "c2d7064d",
   "metadata": {},
   "source": [
    "### Using SMOTE Technique, to avoid overfitting"
   ]
  },
  {
   "cell_type": "code",
   "execution_count": null,
   "id": "bc355416",
   "metadata": {},
   "outputs": [],
   "source": [
    "X, y = SMOTE().fit_resample(X, y)"
   ]
  },
  {
   "cell_type": "code",
   "execution_count": null,
   "id": "95af2042",
   "metadata": {},
   "outputs": [],
   "source": [
    "sns.set_theme(style=\"darkgrid\")\n",
    "sns.countplot(y=y, data=df, palette=\"coolwarm\")\n",
    "plt.ylabel('Loan Status')\n",
    "plt.xlabel('Total')\n",
    "plt.show()"
   ]
  },
  {
   "cell_type": "markdown",
   "id": "47566f3b",
   "metadata": {},
   "source": [
    "#### As can be seen, the distrubtion of Loan status are now balanced."
   ]
  },
  {
   "cell_type": "markdown",
   "id": "ef0ee008",
   "metadata": {},
   "source": [
    "#### => Data Normalization"
   ]
  },
  {
   "cell_type": "code",
   "execution_count": null,
   "id": "a9459fce",
   "metadata": {},
   "outputs": [],
   "source": [
    "# Data normalization is being performed to normalize the range of independent variables or features of data.\n",
    "X = MinMaxScaler().fit_transform(X)"
   ]
  },
  {
   "cell_type": "code",
   "execution_count": null,
   "id": "277f610b",
   "metadata": {},
   "outputs": [],
   "source": [
    "X_train, X_test, y_train, y_test = train_test_split(X, y, test_size = 0.2, random_state = 0)"
   ]
  },
  {
   "cell_type": "markdown",
   "id": "19fbccc0",
   "metadata": {},
   "source": [
    "## Models:"
   ]
  },
  {
   "cell_type": "markdown",
   "id": "c1ba964c",
   "metadata": {},
   "source": [
    "#### 1. Logistic Regression"
   ]
  },
  {
   "cell_type": "code",
   "execution_count": null,
   "id": "a89e0153",
   "metadata": {},
   "outputs": [],
   "source": [
    "LRclassifier = LogisticRegression(solver='saga', max_iter=500, random_state=1)\n",
    "LRclassifier.fit(X_train, y_train)\n",
    "\n",
    "y_pred = LRclassifier.predict(X_test)\n",
    "\n",
    "print(classification_report(y_test, y_pred))\n",
    "print(confusion_matrix(y_test, y_pred))\n",
    "\n",
    "from sklearn.metrics import accuracy_score\n",
    "LRAcc = accuracy_score(y_pred,y_test)\n",
    "print('LR accuracy: {:.2f}%'.format(LRAcc*100))"
   ]
  },
  {
   "cell_type": "markdown",
   "id": "e653565a",
   "metadata": {},
   "source": [
    "#### 2. K-Nearest Neighbour (KNN)"
   ]
  },
  {
   "cell_type": "code",
   "execution_count": null,
   "id": "26ecc325",
   "metadata": {},
   "outputs": [],
   "source": [
    "scoreListknn = []\n",
    "\n",
    "for i in range(1,21):\n",
    "    KNclassifier = KNeighborsClassifier(n_neighbors = i)\n",
    "    KNclassifier.fit(X_train, y_train)\n",
    "    scoreListknn.append(KNclassifier.score(X_test, y_test))\n",
    "    \n",
    "plt.plot(range(1,21), scoreListknn)\n",
    "plt.xticks(np.arange(1,21,1))\n",
    "plt.xlabel(\"K value\")\n",
    "plt.ylabel(\"Score\")\n",
    "plt.show()\n",
    "KNAcc = max(scoreListknn)\n",
    "print(\"KNN best accuracy: {:.2f}%\".format(KNAcc*100))"
   ]
  },
  {
   "cell_type": "markdown",
   "id": "6a580ccf",
   "metadata": {},
   "source": [
    "#### 3. Support Vector Machine (SVM)"
   ]
  },
  {
   "cell_type": "code",
   "execution_count": null,
   "id": "f5af2343",
   "metadata": {},
   "outputs": [],
   "source": [
    "SVCclassifier = SVC(kernel='rbf', max_iter=500)\n",
    "SVCclassifier.fit(X_train, y_train)\n",
    "\n",
    "y_pred = SVCclassifier.predict(X_test)\n",
    "\n",
    "print(classification_report(y_test, y_pred))\n",
    "print(confusion_matrix(y_test, y_pred))\n",
    "\n",
    "from sklearn.metrics import accuracy_score\n",
    "SVCAcc = accuracy_score(y_pred,y_test)\n",
    "print('SVC accuracy: {:.2f}%'.format(SVCAcc*100))"
   ]
  },
  {
   "cell_type": "markdown",
   "id": "44d4026d",
   "metadata": {},
   "source": [
    "#### 4. Naive Bayes"
   ]
  },
  {
   "cell_type": "markdown",
   "id": "c5b5cc14",
   "metadata": {},
   "source": [
    "#### 4.1 Categorical NB:"
   ]
  },
  {
   "cell_type": "code",
   "execution_count": null,
   "id": "252b8f7e",
   "metadata": {},
   "outputs": [],
   "source": [
    "NBclassifier1 = CategoricalNB()\n",
    "NBclassifier1.fit(X_train, y_train)\n",
    "\n",
    "y_pred = NBclassifier1.predict(X_test)\n",
    "\n",
    "print(classification_report(y_test, y_pred))\n",
    "print(confusion_matrix(y_test, y_pred))\n",
    "\n",
    "from sklearn.metrics import accuracy_score\n",
    "NBAcc1 = accuracy_score(y_pred,y_test)\n",
    "print('Categorical Naive Bayes accuracy: {:.2f}%'.format(NBAcc1*100))"
   ]
  },
  {
   "cell_type": "markdown",
   "id": "c0e3f4ed",
   "metadata": {},
   "source": [
    "#### 4.2: Gaussian NB"
   ]
  },
  {
   "cell_type": "code",
   "execution_count": null,
   "id": "81bf442e",
   "metadata": {},
   "outputs": [],
   "source": [
    "NBclassifier2 = GaussianNB()\n",
    "NBclassifier2.fit(X_train, y_train)\n",
    "\n",
    "y_pred = NBclassifier2.predict(X_test)\n",
    "\n",
    "print(classification_report(y_test, y_pred))\n",
    "print(confusion_matrix(y_test, y_pred))\n",
    "\n",
    "from sklearn.metrics import accuracy_score\n",
    "NBAcc2 = accuracy_score(y_pred,y_test)\n",
    "print('Gaussian Naive Bayes accuracy: {:.2f}%'.format(NBAcc2*100))"
   ]
  },
  {
   "cell_type": "markdown",
   "id": "a4140fa4",
   "metadata": {},
   "source": [
    "#### 5. Decision Tree"
   ]
  },
  {
   "cell_type": "code",
   "execution_count": null,
   "id": "0ee93562",
   "metadata": {},
   "outputs": [],
   "source": [
    "scoreListDT = []\n",
    "\n",
    "for i in range(2,21):\n",
    "    DTclassifier = DecisionTreeClassifier(max_leaf_nodes=i)\n",
    "    DTclassifier.fit(X_train, y_train)\n",
    "    scoreListDT.append(DTclassifier.score(X_test, y_test))\n",
    "    \n",
    "plt.plot(range(2,21), scoreListDT)\n",
    "plt.xticks(np.arange(2,21,1))\n",
    "plt.xlabel(\"Leaf\")\n",
    "plt.ylabel(\"Score\")\n",
    "plt.show()\n",
    "DTAcc = max(scoreListDT)\n",
    "print(\"Decision Tree Accuracy: {:.2f}%\".format(DTAcc*100))"
   ]
  },
  {
   "cell_type": "markdown",
   "id": "2e490c7f",
   "metadata": {},
   "source": [
    "#### 6. Random Forest"
   ]
  },
  {
   "cell_type": "code",
   "execution_count": null,
   "id": "438f790f",
   "metadata": {},
   "outputs": [],
   "source": [
    "scoreListRF = []\n",
    "\n",
    "for i in range(2,25):\n",
    "    RFclassifier = RandomForestClassifier(n_estimators = 1000, random_state = 1, max_leaf_nodes=i)\n",
    "    RFclassifier.fit(X_train, y_train)\n",
    "    scoreListRF.append(RFclassifier.score(X_test, y_test))\n",
    "    \n",
    "plt.plot(range(2,25), scoreListRF)\n",
    "plt.xticks(np.arange(2,25,1))\n",
    "plt.xlabel(\"RF Value\")\n",
    "plt.ylabel(\"Score\")\n",
    "plt.show()\n",
    "RFAcc = max(scoreListRF)\n",
    "print(\"Random Forest Accuracy:  {:.2f}%\".format(RFAcc*100))"
   ]
  },
  {
   "cell_type": "markdown",
   "id": "18110968",
   "metadata": {},
   "source": [
    "#### 7. Gradient Boosting"
   ]
  },
  {
   "cell_type": "code",
   "execution_count": null,
   "id": "bc561dc5",
   "metadata": {},
   "outputs": [],
   "source": [
    "paramsGB={'n_estimators':[100,200,300,400,500],\n",
    "      'max_depth':[1,2,3,4,5],\n",
    "      'subsample':[0.5,1],\n",
    "      'max_leaf_nodes':[2,5,10,20,30,40,50]}\n",
    "\n",
    "GB = RandomizedSearchCV(GradientBoostingClassifier(), paramsGB, cv=20)\n",
    "GB.fit(X_train, y_train)"
   ]
  },
  {
   "cell_type": "code",
   "execution_count": null,
   "id": "cd234953",
   "metadata": {},
   "outputs": [],
   "source": [
    "print(GB.best_estimator_)\n",
    "print(GB.best_score_)\n",
    "print(GB.best_params_)\n",
    "print(GB.best_index_)"
   ]
  },
  {
   "cell_type": "code",
   "execution_count": null,
   "id": "ac9b11eb",
   "metadata": {},
   "outputs": [],
   "source": [
    "GBclassifier = GradientBoostingClassifier(subsample=0.5, n_estimators=400, max_depth=4, max_leaf_nodes=10)\n",
    "GBclassifier.fit(X_train, y_train)\n",
    "\n",
    "y_pred = GBclassifier.predict(X_test)\n",
    "\n",
    "print(classification_report(y_test, y_pred))\n",
    "print(confusion_matrix(y_test, y_pred))\n",
    "\n",
    "from sklearn.metrics import accuracy_score\n",
    "GBAcc = accuracy_score(y_pred,y_test)\n",
    "print('Gradient Boosting accuracy: {:.2f}%'.format(GBAcc*100))"
   ]
  },
  {
   "cell_type": "markdown",
   "id": "ec7625cb",
   "metadata": {},
   "source": [
    "### Comparing the Models:"
   ]
  },
  {
   "cell_type": "code",
   "execution_count": null,
   "id": "a4ecdbd4",
   "metadata": {},
   "outputs": [],
   "source": [
    "compare = pd.DataFrame({'Model': ['Logistic Regression', 'K Neighbors', \n",
    "                                  'SVM', 'Categorical NB', \n",
    "                                  'Gaussian NB', 'Decision Tree', \n",
    "                                  'Random Forest', 'Gradient Boost'], \n",
    "                        'Accuracy': [LRAcc*100, KNAcc*100, SVCAcc*100, \n",
    "                                     NBAcc1*100, NBAcc2*100, DTAcc*100, \n",
    "                                     RFAcc*100, GBAcc*100]})\n",
    "compare.sort_values(by='Accuracy', ascending=False)"
   ]
  },
  {
   "cell_type": "code",
   "execution_count": null,
   "id": "682951d2",
   "metadata": {
    "scrolled": true
   },
   "outputs": [],
   "source": [
    "# Splitting the data into training and testing sets\n",
    "X_train, X_test, y_train, y_test = train_test_split(X, y, test_size=0.2, random_state=42)\n",
    "\n",
    "# Handling class imbalance using SMOTE\n",
    "smote = SMOTE(random_state=42)\n",
    "X_train_smote, y_train_smote = smote.fit_resample(X_train, y_train)\n",
    "\n",
    "# Feature scaling using MinMaxScaler\n",
    "scaler = MinMaxScaler()\n",
    "X_train_scaled = scaler.fit_transform(X_train_smote)\n",
    "X_test_scaled = scaler.transform(X_test)\n",
    "\n",
    "# Training the K Neighbors model\n",
    "knn = KNeighborsClassifier()\n",
    "knn.fit(X_train_scaled, y_train_smote)\n",
    "\n",
    "# Predicting on the test set\n",
    "y_pred = knn.predict(X_test_scaled)\n",
    "\n",
    "# Model evaluation\n",
    "print(\"Classification Report:\")\n",
    "print(classification_report(y_test, y_pred))\n",
    "print(\"Confusion Matrix:\")\n",
    "print(confusion_matrix(y_test, y_pred))"
   ]
  },
  {
   "cell_type": "code",
   "execution_count": null,
   "id": "65f4551d",
   "metadata": {
    "scrolled": false
   },
   "outputs": [],
   "source": [
    "y_pred = knn.predict(X_test_scaled)\n",
    "print(y_pred)"
   ]
  },
  {
   "cell_type": "markdown",
   "id": "01670964",
   "metadata": {},
   "source": [
    "# Conclusion:"
   ]
  },
  {
   "cell_type": "markdown",
   "id": "c1e6b2b9",
   "metadata": {},
   "source": [
    "### Loan approval prediction involves the analysis of various factors, such as the applicant’s financial history, income, credit rating, employment status, and other relevant attributes. By leveraging historical loan data and applying machine learning algorithms, businesses can build models to determine loan approvals for new applicants."
   ]
  }
 ],
 "metadata": {
  "kernelspec": {
   "display_name": "Python 3 (ipykernel)",
   "language": "python",
   "name": "python3"
  },
  "language_info": {
   "codemirror_mode": {
    "name": "ipython",
    "version": 3
   },
   "file_extension": ".py",
   "mimetype": "text/x-python",
   "name": "python",
   "nbconvert_exporter": "python",
   "pygments_lexer": "ipython3",
   "version": "3.10.9"
  }
 },
 "nbformat": 4,
 "nbformat_minor": 5
}
