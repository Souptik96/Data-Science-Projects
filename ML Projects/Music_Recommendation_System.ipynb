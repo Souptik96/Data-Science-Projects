{
  "nbformat": 4,
  "nbformat_minor": 0,
  "metadata": {
    "colab": {
      "provenance": []
    },
    "kernelspec": {
      "name": "python3",
      "display_name": "Python 3"
    },
    "language_info": {
      "name": "python"
    }
  },
  "cells": [
    {
      "cell_type": "markdown",
      "source": [
        "# **Introduction**:\n",
        "\n",
        "## **Creating an Innovative Music Recommendation System using Spotify Dataset**\n",
        "\n",
        "In today's digital age, music has become an integral part of our lives, accompanying us through various moods, activities, and experiences. With the advent of streaming platforms like Spotify, the world of music has undergone a transformative shift, offering a treasure trove of songs across genres, eras, and cultures. In this era of abundance, the need for intelligent music recommendation systems has never been more pronounced.\n",
        "\n",
        "This project delves into the realm of data science and music to construct a sophisticated music recommendation system that takes advantage of the vast Spotify dataset and leverages advanced analytics and machine learning techniques. The goal is to create a platform that not only curates music based on user preferences but also unravels the nuances of musical trends, genres, and artist profiles.\n",
        "\n",
        "Through a journey of exploration, analysis, and modeling, this project unveils the steps involved in building a music recommendation system from scratch. We start by comprehensively understanding the Spotify dataset, which provides a panoramic view of music features, artist details, and historical trends. With this robust dataset as our foundation, we embark on a data-driven voyage to uncover the intricacies of music evolution and genre dynamics over the years.\n",
        "\n",
        "To ensure accurate and personalized recommendations, we harness the power of machine learning. We employ techniques like K-means clustering to group genres and songs with shared audio characteristics, allowing us to categorize and identify patterns in the vast musical landscape. Through Spotipy, a Python library that interfaces with the Spotify Web API, we enrich our recommendations with real-time song data and artist insights, offering users a seamless blend of technology and creativity."
      ],
      "metadata": {
        "id": "5w4PtKHcOkmH"
      }
    },
    {
      "cell_type": "markdown",
      "source": [
        "Here we will directly import the data from Kaggle. Before that, we need to make sure that we are into Kaggle environment."
      ],
      "metadata": {
        "id": "rFcx8GolO5ad"
      }
    },
    {
      "cell_type": "code",
      "execution_count": null,
      "metadata": {
        "id": "-Mu2Y0jTs7c_"
      },
      "outputs": [],
      "source": [
        "!mkdir -p ~/.kaggle\n",
        "!mv kaggle.json ~/.kaggle/"
      ]
    },
    {
      "cell_type": "code",
      "source": [
        "!kaggle datasets download -d vatsalmavani/spotify-dataset"
      ],
      "metadata": {
        "id": "NBjBM5O2vP13"
      },
      "execution_count": null,
      "outputs": []
    },
    {
      "cell_type": "code",
      "source": [
        "!chmod 600 ~/.kaggle/kaggle.json"
      ],
      "metadata": {
        "id": "CAOqvWRPvy5b"
      },
      "execution_count": null,
      "outputs": []
    },
    {
      "cell_type": "code",
      "source": [
        "!unzip spotify-dataset.zip -d /content"
      ],
      "metadata": {
        "id": "Z9rNY619v64Y"
      },
      "execution_count": null,
      "outputs": []
    },
    {
      "cell_type": "markdown",
      "source": [
        "Let's import the common and necessary libraries:"
      ],
      "metadata": {
        "id": "6Uh14CB8PMZ_"
      }
    },
    {
      "cell_type": "code",
      "source": [
        "import numpy as np\n",
        "import pandas as pd\n",
        "\n",
        "import seaborn as sns\n",
        "import plotly.express as px\n",
        "import matplotlib.pyplot as plt\n",
        "%matplotlib inline\n",
        "\n",
        "from sklearn.cluster import KMeans\n",
        "from sklearn.preprocessing import StandardScaler\n",
        "from sklearn.pipeline import Pipeline\n",
        "from sklearn.manifold import TSNE\n",
        "from sklearn.decomposition import PCA\n",
        "from sklearn.metrics import euclidean_distances\n",
        "from scipy.spatial.distance import cdist\n",
        "\n",
        "import warnings\n",
        "warnings.filterwarnings(\"ignore\")"
      ],
      "metadata": {
        "id": "67SvL2xPwCOJ"
      },
      "execution_count": null,
      "outputs": []
    },
    {
      "cell_type": "markdown",
      "source": [
        "Let's now import and read the data."
      ],
      "metadata": {
        "id": "4QqgHIcQPUY9"
      }
    },
    {
      "cell_type": "code",
      "source": [
        "data = pd.read_csv(\"/content/data/data.csv\")\n",
        "genre_data = pd.read_csv(\"/content/data/data_by_genres.csv\")\n",
        "year_data = pd.read_csv(\"/content/data/data_by_year.csv\")"
      ],
      "metadata": {
        "id": "5WtIxQxwwh3k"
      },
      "execution_count": null,
      "outputs": []
    },
    {
      "cell_type": "markdown",
      "source": [
        "Some basic exploration of the data:"
      ],
      "metadata": {
        "id": "pW3PsdNIPaD1"
      }
    },
    {
      "cell_type": "code",
      "source": [
        "print(data.info())"
      ],
      "metadata": {
        "id": "gl1liAc0w8g0"
      },
      "execution_count": null,
      "outputs": []
    },
    {
      "cell_type": "code",
      "source": [
        "print(genre_data.info())"
      ],
      "metadata": {
        "id": "kdNt1OZ-xC_R"
      },
      "execution_count": null,
      "outputs": []
    },
    {
      "cell_type": "code",
      "source": [
        "print(year_data.info())"
      ],
      "metadata": {
        "id": "rv6nrEwQyW9d"
      },
      "execution_count": null,
      "outputs": []
    },
    {
      "cell_type": "markdown",
      "source": [
        "**Getting into EDA:**\n",
        "\n",
        "Feature Correlation -"
      ],
      "metadata": {
        "id": "D-HDePIPzDY0"
      }
    },
    {
      "cell_type": "code",
      "source": [
        "# Calculate the correlation matrix\n",
        "# Calculate the correlation between different audio features and visualize it using a heatmap.\n",
        "correlation_matrix = data.corr()\n",
        "\n",
        "# Set up the style and context\n",
        "sns.set(style=\"whitegrid\")\n",
        "plt.figure(figsize=(12, 10))\n",
        "\n",
        "# Create a heatmap with a diverging color palette\n",
        "sns.heatmap(correlation_matrix, annot=True, cmap=\"coolwarm\", center=0,\n",
        "            fmt=\".2f\", linewidths=0.5, cbar_kws={\"shrink\": 0.8})\n",
        "\n",
        "# Customize the title and labels\n",
        "plt.title(\"Feature Correlation Heatmap\", fontsize=16)\n",
        "plt.xticks(fontsize=12)\n",
        "plt.yticks(fontsize=12)\n",
        "\n",
        "# Show the plot\n",
        "plt.tight_layout()\n",
        "plt.show()"
      ],
      "metadata": {
        "id": "SyPtcGDIzIaF"
      },
      "execution_count": null,
      "outputs": []
    },
    {
      "cell_type": "markdown",
      "source": [
        "Now let's see how music has changed over the years."
      ],
      "metadata": {
        "id": "poFSgK2Cz48a"
      }
    },
    {
      "cell_type": "code",
      "source": [
        "# Visualize how different audio features have changed over the years.\n",
        "sns.set(style=\"whitegrid\")\n",
        "plt.figure(figsize=(12, 6))\n",
        "\n",
        "plt.plot(year_data['year'], year_data['acousticness'], label='Acousticness')\n",
        "plt.plot(year_data['year'], year_data['danceability'], label='Danceability')\n",
        "plt.plot(year_data['year'], year_data['energy'], label='Energy')\n",
        "plt.plot(year_data['year'], year_data['valence'], label='Valence')\n",
        "\n",
        "# Customizations\n",
        "plt.title(\"Audio Feature Trends Over the Years\", fontsize=16)\n",
        "plt.xlabel(\"Year\", fontsize=12)\n",
        "plt.ylabel(\"Feature Value\", fontsize=12)\n",
        "plt.legend(fontsize=10)\n",
        "\n",
        "plt.tight_layout()\n",
        "plt.show()"
      ],
      "metadata": {
        "id": "RtJnLc0RyeSc"
      },
      "execution_count": null,
      "outputs": []
    },
    {
      "cell_type": "markdown",
      "source": [
        "Now let's see the characteristics of different genres:"
      ],
      "metadata": {
        "id": "wamuj4ow0mtR"
      }
    },
    {
      "cell_type": "code",
      "source": [
        "sns.set(style=\"whitegrid\")\n",
        "plt.figure(figsize=(12, 6))\n",
        "\n",
        "plt.bar(genre_data['genres'], genre_data['acousticness'], label='Acousticness')\n",
        "plt.bar(genre_data['genres'], genre_data['danceability'], label='Danceability')\n",
        "plt.bar(genre_data['genres'], genre_data['energy'], label='Energy')\n",
        "plt.bar(genre_data['genres'], genre_data['valence'], label='Valence')\n",
        "\n",
        "plt.title(\"Audio Feature Characteristics by Genre\", fontsize=16)\n",
        "plt.xlabel(\"Genre\", fontsize=12)\n",
        "plt.ylabel(\"Average Feature Value\", fontsize=12)\n",
        "plt.xticks(rotation=90)\n",
        "plt.legend(fontsize=10)\n",
        "\n",
        "plt.tight_layout()\n",
        "plt.show()"
      ],
      "metadata": {
        "id": "yXj34KRl0lf-"
      },
      "execution_count": null,
      "outputs": []
    },
    {
      "cell_type": "code",
      "source": [
        "sns.set(style=\"whitegrid\")\n",
        "fig, axes = plt.subplots(nrows=2, ncols=2, figsize=(15, 10))\n",
        "\n",
        "sns.barplot(x='genres', y='acousticness', data=genre_data, ax=axes[0, 0])\n",
        "sns.barplot(x='genres', y='danceability', data=genre_data, ax=axes[0, 1])\n",
        "sns.barplot(x='genres', y='energy', data=genre_data, ax=axes[1, 0])\n",
        "sns.barplot(x='genres', y='valence', data=genre_data, ax=axes[1, 1])\n",
        "\n",
        "axes[0, 0].set_title(\"Acousticness by Genre\")\n",
        "axes[0, 0].set_ylabel(\"Average Acousticness\")\n",
        "axes[0, 1].set_title(\"Danceability by Genre\")\n",
        "axes[0, 1].set_ylabel(\"Average Danceability\")\n",
        "axes[1, 0].set_title(\"Energy by Genre\")\n",
        "axes[1, 0].set_ylabel(\"Average Energy\")\n",
        "axes[1, 1].set_title(\"Valence by Genre\")\n",
        "axes[1, 1].set_ylabel(\"Average Valence\")\n",
        "\n",
        "for ax in axes.flat:\n",
        "    ax.set_xticklabels(ax.get_xticklabels(), rotation=45, ha='right')\n",
        "\n",
        "plt.tight_layout()\n",
        "plt.show()"
      ],
      "metadata": {
        "id": "zjkLKbx81_hM"
      },
      "execution_count": null,
      "outputs": []
    },
    {
      "cell_type": "code",
      "source": [
        "top10_genres = genre_data.nlargest(10, 'popularity')\n",
        "\n",
        "fig = px.bar(top10_genres, x='genres', y=['valence', 'energy', 'danceability', 'acousticness'], barmode='group')\n",
        "fig.show()"
      ],
      "metadata": {
        "id": "v0HwUUh73wwq"
      },
      "execution_count": null,
      "outputs": []
    },
    {
      "cell_type": "markdown",
      "source": [
        "# Clustering Genres\n",
        "\n",
        "We are using K-Means to cluster the genre into 10 clusters.\n"
      ],
      "metadata": {
        "id": "uBlUXsgt4_04"
      }
    },
    {
      "cell_type": "code",
      "source": [
        "from sklearn.cluster import KMeans\n",
        "from sklearn.preprocessing import StandardScaler\n",
        "from sklearn.pipeline import Pipeline\n",
        "\n",
        "# Create a pipeline with StandardScaler and KMeans\n",
        "cluster_pipeline = Pipeline([\n",
        "    ('scaler', StandardScaler()),\n",
        "    ('kmeans', KMeans(n_clusters=10))\n",
        "])\n",
        "\n",
        "# Select numerical features for clustering\n",
        "X = genre_data.select_dtypes(np.number)\n",
        "\n",
        "# Fit the pipeline to the data and predict clusters\n",
        "cluster_pipeline.fit(X)\n",
        "genre_data['cluster'] = cluster_pipeline.predict(X)"
      ],
      "metadata": {
        "id": "KtmaW24T32SB"
      },
      "execution_count": null,
      "outputs": []
    },
    {
      "cell_type": "code",
      "source": [
        "# Fit t-SNE\n",
        "tsne = TSNE(n_components=2, random_state=42)\n",
        "X_tsne = tsne.fit_transform(X)\n",
        "\n",
        "# Add t-SNE coordinates to the genre_data dataframe\n",
        "genre_data['tsne_x'] = X_tsne[:, 0]\n",
        "genre_data['tsne_y'] = X_tsne[:, 1]\n",
        "\n",
        "# Create a scatter plot of clusters using t-SNE coordinates\n",
        "plt.figure(figsize=(10, 8))\n",
        "sns.scatterplot(data=genre_data, x='tsne_x', y='tsne_y', hue='cluster', palette='viridis', legend='full')\n",
        "plt.title('t-SNE Visualization of Genre Clusters')\n",
        "plt.show()"
      ],
      "metadata": {
        "id": "ORG6jRe76McO"
      },
      "execution_count": null,
      "outputs": []
    },
    {
      "cell_type": "markdown",
      "source": [
        "# Now let's look at the Songs Clusters"
      ],
      "metadata": {
        "id": "Db6EUhpg790l"
      }
    },
    {
      "cell_type": "code",
      "source": [
        "song_cluster_pipeline = Pipeline([\n",
        "    ('scaler', StandardScaler()),\n",
        "    ('kmeans', KMeans(n_clusters=20))\n",
        "])\n",
        "\n",
        "X = data.select_dtypes(np.number)\n",
        "number_cols = list(X.columns)\n",
        "song_cluster_pipeline.fit(X)\n",
        "data['cluster_label'] = song_cluster_pipeline.predict(X)"
      ],
      "metadata": {
        "id": "AVSA2Oel7GWM"
      },
      "execution_count": null,
      "outputs": []
    },
    {
      "cell_type": "markdown",
      "source": [
        "Using PCA for reducing dimensions:"
      ],
      "metadata": {
        "id": "QkPng8lA9Z_U"
      }
    },
    {
      "cell_type": "code",
      "source": [
        "from sklearn.decomposition import PCA\n",
        "\n",
        "pca_pipeline = Pipeline([\n",
        "    ('scaler', StandardScaler()),\n",
        "    ('PCA', PCA(n_components=2))\n",
        "])\n",
        "\n",
        "song_embedding = pca_pipeline.fit_transform(X)\n",
        "\n",
        "projection = pd.DataFrame(columns=['x', 'y'], data=song_embedding)\n",
        "projection['title'] = data['name']\n",
        "projection['cluster'] = data['cluster_label']\n",
        "\n",
        "fig = px.scatter(\n",
        "    projection, x='x', y='y', color='cluster', hover_data=['x', 'y', 'title'],\n",
        "    labels={'x': 'PCA Component 1', 'y': 'PCA Component 2'}, title='PCA Visualization of Song Clusters'\n",
        ")\n",
        "\n",
        "fig.show()"
      ],
      "metadata": {
        "id": "opqyAxJk8990"
      },
      "execution_count": null,
      "outputs": []
    },
    {
      "cell_type": "markdown",
      "source": [
        "# Model Building:"
      ],
      "metadata": {
        "id": "ba7L7MJs9xO4"
      }
    },
    {
      "cell_type": "code",
      "source": [
        "!pip install spotify"
      ],
      "metadata": {
        "id": "v-Qk6PMN9jaC"
      },
      "execution_count": null,
      "outputs": []
    },
    {
      "cell_type": "markdown",
      "source": [
        "#### Next is importing Spotify Credentials:\n",
        "\n",
        "1. Create a Spotify Developer Account: Go to the Spotify Developer Dashboard and log in or sign up for an account Create a new app by clicking the \"Create an App\" button. Fill in the necessary information about your app.\n",
        "Get your Client ID and Secret Key:\n",
        "\n",
        "2. Once your app is created, you'll be able to see your Client ID and Client Secret. Keep these confidential as they will be used to authenticate requests to the Spotify Web API.\n",
        "Use Spotipy in Your Code:\n",
        "\n",
        "3. Import the necessary modules from the Spotipy library.\n",
        "Set your Client ID and Client Secret.\n",
        "Use the Spotipy methods to interact with the Spotify Web API."
      ],
      "metadata": {
        "id": "HNtaSyZb_LFC"
      }
    },
    {
      "cell_type": "code",
      "source": [
        "!pip install spotipy"
      ],
      "metadata": {
        "id": "bq0COqf3CjKu"
      },
      "execution_count": null,
      "outputs": []
    },
    {
      "cell_type": "code",
      "source": [
        "import spotipy\n",
        "import os\n",
        "from spotipy.oauth2 import SpotifyClientCredentials\n",
        "from collections import defaultdict\n",
        "\n",
        "# Set the environment variables\n",
        "%env SPOTIFY_CLIENT_ID = 7522c78b4ec445f78cdd6679908ddaf4\n",
        "%env SPOTIFY_CLIENT_SECRET = d6d7ea3df6ee4f329250e8e13668baff\n",
        "\n",
        "sp = spotipy.Spotify(auth_manager=SpotifyClientCredentials(client_id=os.environ[\"SPOTIFY_CLIENT_ID\"],\n",
        "                                                           client_secret=os.environ[\"SPOTIFY_CLIENT_SECRET\"]))"
      ],
      "metadata": {
        "id": "lLkbNK3gFK-Z"
      },
      "execution_count": null,
      "outputs": []
    },
    {
      "cell_type": "markdown",
      "source": [
        "* Special Note: Please make sure to run and set the environment in a separate code line, to avoid errors. *"
      ],
      "metadata": {
        "id": "ScYrqmzMFpzo"
      }
    },
    {
      "cell_type": "code",
      "source": [
        "def find_song(name, year):\n",
        "    song_data = defaultdict()\n",
        "    results = sp.search(q= 'track: {} year: {}'.format(name,year), limit=1)\n",
        "    if results['tracks']['items'] == []:\n",
        "        return None\n",
        "\n",
        "    results = results['tracks']['items'][0]\n",
        "    track_id = results['id']\n",
        "    audio_features = sp.audio_features(track_id)[0]\n",
        "\n",
        "    song_data['name'] = [name]\n",
        "    song_data['year'] = [year]\n",
        "    song_data['explicit'] = [int(results['explicit'])]\n",
        "    song_data['duration_ms'] = [results['duration_ms']]\n",
        "    song_data['popularity'] = [results['popularity']]\n",
        "\n",
        "    for key, value in audio_features.items():\n",
        "        song_data[key] = value\n",
        "\n",
        "    return pd.DataFrame(song_data)"
      ],
      "metadata": {
        "id": "EBDF8LBq9-WR"
      },
      "execution_count": null,
      "outputs": []
    },
    {
      "cell_type": "code",
      "source": [
        "number_cols = ['valence', 'year', 'acousticness', 'danceability', 'duration_ms', 'energy', 'explicit',\n",
        " 'instrumentalness', 'key', 'liveness', 'loudness', 'mode', 'popularity', 'speechiness', 'tempo']\n",
        "\n",
        "def get_song_data(song, spotify_data):\n",
        "    song_data = spotify_data[(spotify_data['name'] == song['name']) & (spotify_data['year'] == song['year'])].iloc[0]\n",
        "    return song_data if not song_data.empty else find_song(song['name'], song['year'])\n",
        "\n",
        "def get_mean_vector(song_list, spotify_data):\n",
        "    return np.mean([get_song_data(song, spotify_data)[number_cols].values for song in song_list], axis=0)\n",
        "\n",
        "def flatten_dict_list(dict_list):\n",
        "    return defaultdict(list, {key: [d[key] for d in dict_list] for key in dict_list[0]})\n",
        "\n",
        "metadata_cols = ['name', 'year', 'artists']\n",
        "\n",
        "def recommend_songs(song_list, spotify_data, n_songs=10):\n",
        "    song_center = get_mean_vector(song_list, spotify_data)\n",
        "    scaled_song_center = song_cluster_pipeline.steps[0][1].transform(song_center.reshape(1, -1))\n",
        "    scaled_data = song_cluster_pipeline.steps[0][1].transform(spotify_data[number_cols])\n",
        "    distances = pairwise_distances(scaled_song_center, scaled_data, metric='cosine')[0]\n",
        "    index = np.argsort(distances)[:n_songs]\n",
        "\n",
        "    rec_songs = spotify_data.iloc[index]\n",
        "    rec_songs = rec_songs[~rec_songs['name'].isin([song['name'] for song in song_list])]\n",
        "    return rec_songs[metadata_cols].to_dict(orient='records')\n"
      ],
      "metadata": {
        "id": "jyeJvNjmCqtQ"
      },
      "execution_count": null,
      "outputs": []
    },
    {
      "cell_type": "code",
      "source": [
        "recommend_songs([{'name': 'Somebody Like You', 'year': 2002},\n",
        "                {'name': 'No Excuses', 'year': 1994},\n",
        "                {'name': 'Corazón Mágico', 'year': 1995}], data)"
      ],
      "metadata": {
        "id": "grBrBYoqKzXj"
      },
      "execution_count": null,
      "outputs": []
    },
    {
      "cell_type": "markdown",
      "source": [
        "# Conclusion\n",
        "\n",
        "In this project, we embarked on a journey to create a comprehensive music recommendation system using the Spotify dataset and various data science techniques. We started by exploring the dataset, analyzing music trends over the years, and investigating the characteristics of different genres. Through insightful visualizations, we gained a deeper understanding of how music has evolved and diversified over time.\n",
        "\n",
        "We then utilized machine learning techniques to cluster both genres and songs, uncovering hidden patterns and relationships within the music data. The K-means clustering algorithm enabled us to group genres and songs with similar audio features, providing a meaningful segmentation for further analysis.\n",
        "\n",
        "Using Spotipy, a Python library for the Spotify Web API, we harnessed the power of real-time data retrieval to enhance our recommendations. By combining user-defined song preferences with machine-generated song embeddings, we formulated a robust system that suggests songs tailored to the user's taste.\n",
        "\n",
        "This project is not only a testament to the capabilities of data science but also a tribute to the artistry of music itself. By leveraging data insights and machine learning, we have created a platform that bridges the gap between music data and user experience, ultimately bringing listeners closer to the melodies that resonate with them.\n",
        "\n",
        "In conclusion, this project demonstrates the synergy between technology and creativity, showcasing how data science can enrich our understanding of music and enhance the way we explore and enjoy the vast world of musical artistry."
      ],
      "metadata": {
        "id": "qsxq5-M4OCp2"
      }
    },
    {
      "cell_type": "markdown",
      "source": [
        "Acknowledgement:\n",
        "\n",
        "\n",
        "*   https://www.kaggle.com/code/vatsalmavani/music-recommendation-system-using-spotify-dataset/notebook\n"
      ],
      "metadata": {
        "id": "bfpsjWRBQhFF"
      }
    }
  ]
}