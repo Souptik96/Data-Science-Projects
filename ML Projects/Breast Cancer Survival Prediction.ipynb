{
 "cells": [
  {
   "cell_type": "markdown",
   "id": "ba2eddba",
   "metadata": {},
   "source": [
    "# Goal Statement:"
   ]
  },
  {
   "cell_type": "markdown",
   "id": "cd818f98",
   "metadata": {},
   "source": [
    "### Breast cancer is one of the types of cancer that starts in the breast. It occurs in women, but men can get breast cancer too. It is the second leading cause of death in women. As the use of data in healthcare is very common today, we can use machine learning to predict whether a patient will survive a deadly disease like breast cancer or not."
   ]
  },
  {
   "cell_type": "markdown",
   "id": "a2d4f8de",
   "metadata": {},
   "source": [
    "### Here, we have a dataset of over 400 breast cancer patients who underwent surgery for the treatment of breast cancer."
   ]
  },
  {
   "cell_type": "markdown",
   "id": "d74324a7",
   "metadata": {},
   "source": [
    "## So by using this dataset, our task is to predict whether a breast cancer patient will survive or not after the surgery."
   ]
  },
  {
   "cell_type": "code",
   "execution_count": null,
   "id": "afbe9dc9",
   "metadata": {},
   "outputs": [],
   "source": [
    "import pandas as pd\n",
    "import numpy as np\n",
    "import plotly.express as px\n",
    "from sklearn.model_selection import train_test_split\n",
    "from sklearn.svm import SVC\n",
    "\n",
    "data = pd.read_csv(\"BRCA.csv\")\n",
    "print(data.head())"
   ]
  },
  {
   "cell_type": "markdown",
   "id": "820287b5",
   "metadata": {},
   "source": [
    "### Checking for NULL values:"
   ]
  },
  {
   "cell_type": "code",
   "execution_count": null,
   "id": "c3ac0d1d",
   "metadata": {},
   "outputs": [],
   "source": [
    "print(data.isnull().sum())"
   ]
  },
  {
   "cell_type": "markdown",
   "id": "c4f9bba9",
   "metadata": {},
   "source": [
    "### Dropping the NULL values:"
   ]
  },
  {
   "cell_type": "code",
   "execution_count": null,
   "id": "05375afd",
   "metadata": {},
   "outputs": [],
   "source": [
    "data = data.dropna()"
   ]
  },
  {
   "cell_type": "code",
   "execution_count": null,
   "id": "bc111201",
   "metadata": {},
   "outputs": [],
   "source": [
    "data.info()"
   ]
  },
  {
   "cell_type": "markdown",
   "id": "f2ac505c",
   "metadata": {},
   "source": [
    "### Breast cancer is mostly found in females, let’s have a look at the Gender column to see the distinction:"
   ]
  },
  {
   "cell_type": "code",
   "execution_count": null,
   "id": "75b3f474",
   "metadata": {},
   "outputs": [],
   "source": [
    "print(data.Gender.value_counts())"
   ]
  },
  {
   "cell_type": "markdown",
   "id": "6cd0c18e",
   "metadata": {},
   "source": [
    "### Now let’s have a look at the stage of tumour of the patients:"
   ]
  },
  {
   "cell_type": "code",
   "execution_count": null,
   "id": "391c3695",
   "metadata": {},
   "outputs": [],
   "source": [
    "# Tumour Stage\n",
    "stage = data[\"Tumour_Stage\"].value_counts()\n",
    "transactions = stage.index\n",
    "quantity = stage.values\n",
    "\n",
    "figure = px.pie(data, \n",
    "             values=quantity, \n",
    "             names=transactions,hole = 0.5, \n",
    "             title=\"Tumour Stages of Patients\")\n",
    "figure.show()"
   ]
  },
  {
   "cell_type": "markdown",
   "id": "9e6faf3e",
   "metadata": {},
   "source": [
    "### So most of the patients are in the second stage. Now let’s have a look at the histology of breast cancer patients. (Histology is a description of a tumour based on how abnormal the cancer cells and tissue look under a microscope and how quickly cancer can grow and spread):"
   ]
  },
  {
   "cell_type": "code",
   "execution_count": null,
   "id": "55920fe8",
   "metadata": {},
   "outputs": [],
   "source": [
    "# Histology\n",
    "histology = data[\"Histology\"].value_counts()\n",
    "transactions = histology.index\n",
    "quantity = histology.values\n",
    "figure = px.pie(data, \n",
    "             values=quantity, \n",
    "             names=transactions,hole = 0.5, \n",
    "             title=\"Histology of Patients\")\n",
    "figure.show()"
   ]
  },
  {
   "cell_type": "markdown",
   "id": "45bfc45d",
   "metadata": {},
   "source": [
    "### Now let’s have a look at the values of ER status, PR status, and HER2 status of the patients:"
   ]
  },
  {
   "cell_type": "code",
   "execution_count": null,
   "id": "a69ba16f",
   "metadata": {},
   "outputs": [],
   "source": [
    "# ER status\n",
    "print(data[\"ER status\"].value_counts())\n",
    "# PR status\n",
    "print(data[\"PR status\"].value_counts())\n",
    "# HER2 status\n",
    "print(data[\"HER2 status\"].value_counts())"
   ]
  },
  {
   "cell_type": "markdown",
   "id": "4ab3b4e0",
   "metadata": {},
   "source": [
    "### Now let’s have a look at the type of surgeries done to the patients:"
   ]
  },
  {
   "cell_type": "code",
   "execution_count": null,
   "id": "859dc036",
   "metadata": {},
   "outputs": [],
   "source": [
    "# Surgery_type\n",
    "surgery = data[\"Surgery_type\"].value_counts()\n",
    "transactions = surgery.index\n",
    "quantity = surgery.values\n",
    "figure = px.pie(data, \n",
    "             values=quantity, \n",
    "             names=transactions,hole = 0.5, \n",
    "             title=\"Type of Surgery of Patients\")\n",
    "figure.show()"
   ]
  },
  {
   "cell_type": "markdown",
   "id": "eb02b550",
   "metadata": {},
   "source": [
    "### So we explored the data, the dataset has a lot of categorical features. To use this data to train a machine learning model, we need to transform the values of all the categorical columns. "
   ]
  },
  {
   "cell_type": "code",
   "execution_count": null,
   "id": "8e79e86a",
   "metadata": {},
   "outputs": [],
   "source": [
    "data[\"Tumour_Stage\"] = data[\"Tumour_Stage\"].map({\"I\": 1, \"II\": 2, \"III\": 3})\n",
    "data[\"Histology\"] = data[\"Histology\"].map({\"Infiltrating Ductal Carcinoma\": 1, \n",
    "                                           \"Infiltrating Lobular Carcinoma\": 2, \"Mucinous Carcinoma\": 3})\n",
    "data[\"ER status\"] = data[\"ER status\"].map({\"Positive\": 1})\n",
    "data[\"PR status\"] = data[\"PR status\"].map({\"Positive\": 1})\n",
    "data[\"HER2 status\"] = data[\"HER2 status\"].map({\"Positive\": 1, \"Negative\": 2})\n",
    "data[\"Gender\"] = data[\"Gender\"].map({\"MALE\": 0, \"FEMALE\": 1})\n",
    "data[\"Surgery_type\"] = data[\"Surgery_type\"].map({\"Other\": 1, \"Modified Radical Mastectomy\": 2, \n",
    "                                                 \"Lumpectomy\": 3, \"Simple Mastectomy\": 4})\n",
    "print(data.head())"
   ]
  },
  {
   "cell_type": "markdown",
   "id": "761d32aa",
   "metadata": {},
   "source": [
    "## We can now move on to training a machine learning model to predict the survival of a breast cancer patient."
   ]
  },
  {
   "cell_type": "code",
   "execution_count": null,
   "id": "17251f8e",
   "metadata": {},
   "outputs": [],
   "source": [
    "# Splitting data\n",
    "x = np.array(data[['Age', 'Gender', 'Protein1', 'Protein2', 'Protein3','Protein4', \n",
    "                   'Tumour_Stage', 'Histology', 'ER status', 'PR status', \n",
    "                   'HER2 status', 'Surgery_type']])\n",
    "y = np.array(data[['Patient_Status']])\n",
    "xtrain, xtest, ytrain, ytest = train_test_split(x, y, test_size=0.20, random_state=42)"
   ]
  },
  {
   "cell_type": "code",
   "execution_count": null,
   "id": "282a6995",
   "metadata": {},
   "outputs": [],
   "source": [
    "model = SVC()\n",
    "model.fit(xtrain, ytrain)"
   ]
  },
  {
   "cell_type": "markdown",
   "id": "ffd61741",
   "metadata": {},
   "source": [
    "### Now let’s input all the features that we have used to train this machine learning model and predict whether a patient will survive from breast cancer or not:"
   ]
  },
  {
   "cell_type": "code",
   "execution_count": null,
   "id": "38f4f79d",
   "metadata": {},
   "outputs": [],
   "source": [
    "# Prediction\n",
    "# features = [['Age', 'Gender', 'Protein1', 'Protein2', 'Protein3','Protein4', 'Tumour_Stage', 'Histology', 'ER status', 'PR status', 'HER2 status', 'Surgery_type']]\n",
    "features = np.array([[36.0, 1, 0.080353, 0.42638, 0.54715, 0.273680, 3, 1, 1, 1, 2, 2,]])\n",
    "print(model.predict(features))"
   ]
  }
 ],
 "metadata": {
  "kernelspec": {
   "display_name": "Python 3 (ipykernel)",
   "language": "python",
   "name": "python3"
  },
  "language_info": {
   "codemirror_mode": {
    "name": "ipython",
    "version": 3
   },
   "file_extension": ".py",
   "mimetype": "text/x-python",
   "name": "python",
   "nbconvert_exporter": "python",
   "pygments_lexer": "ipython3",
   "version": "3.11.3"
  }
 },
 "nbformat": 4,
 "nbformat_minor": 5
}
