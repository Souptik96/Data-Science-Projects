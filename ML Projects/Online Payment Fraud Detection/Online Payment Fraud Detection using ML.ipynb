{
 "cells": [
  {
   "cell_type": "markdown",
   "id": "33d01310",
   "metadata": {},
   "source": [
    "# Introduction:"
   ]
  },
  {
   "cell_type": "markdown",
   "id": "53c366dc",
   "metadata": {},
   "source": [
    "In this project, we aim to build a machine learning model for detecting fraudulent online payment transactions. The dataset used for this project contains various features related to each transaction, such as transaction type, amount, old balance, and new balance, along with a binary target variable indicating whether the transaction is fraudulent or not."
   ]
  },
  {
   "cell_type": "markdown",
   "id": "baedd62b",
   "metadata": {},
   "source": [
    "### Let's import the data and the necessary modules:"
   ]
  },
  {
   "cell_type": "code",
   "execution_count": null,
   "id": "9354a1d7",
   "metadata": {},
   "outputs": [],
   "source": [
    "import opendatasets as od\n",
    "\n",
    "dataset = 'https://www.kaggle.com/datasets/jainilcoder/online-payment-fraud-detection'\n",
    "\n",
    "od.download(dataset)\n",
    "\n",
    "import os\n",
    "data_dir = 'C:/Users/Souptik/online-payment-fraud-detection'\n",
    "os.listdir(data_dir)"
   ]
  },
  {
   "cell_type": "code",
   "execution_count": null,
   "id": "7a3db76e",
   "metadata": {},
   "outputs": [],
   "source": [
    "import numpy as np\n",
    "import pandas as pd\n",
    "import matplotlib.pyplot as plt\n",
    "%matplotlib inline\n",
    "\n",
    "import seaborn as sns\n",
    "from sklearn.model_selection import train_test_split, KFold\n",
    "from sklearn.metrics import roc_auc_score, confusion_matrix, classification_report\n",
    "import xgboost as xgb\n",
    "import lightgbm as lgb\n",
    "from catboost import CatBoostClassifier"
   ]
  },
  {
   "cell_type": "code",
   "execution_count": null,
   "id": "35253c54",
   "metadata": {},
   "outputs": [],
   "source": [
    "dataset = pd.read_csv(\"C:/Users/Souptik/online-payment-fraud-detection/onlinefraud.csv\")\n",
    "print(dataset.head())"
   ]
  },
  {
   "cell_type": "markdown",
   "id": "97112d8a",
   "metadata": {},
   "source": [
    "#### Let's look at the data:"
   ]
  },
  {
   "cell_type": "code",
   "execution_count": null,
   "id": "2934fd7f",
   "metadata": {},
   "outputs": [],
   "source": [
    "dataset.shape"
   ]
  },
  {
   "cell_type": "code",
   "execution_count": null,
   "id": "537578df",
   "metadata": {},
   "outputs": [],
   "source": [
    "print(dataset.isnull().sum())"
   ]
  },
  {
   "cell_type": "code",
   "execution_count": null,
   "id": "1f97045d",
   "metadata": {},
   "outputs": [],
   "source": [
    "print(dataset['type'].value_counts())"
   ]
  },
  {
   "cell_type": "markdown",
   "id": "011a15a5",
   "metadata": {},
   "source": [
    "## EDA:"
   ]
  },
  {
   "cell_type": "code",
   "execution_count": null,
   "id": "a17c6acf",
   "metadata": {
    "scrolled": false
   },
   "outputs": [],
   "source": [
    "type_counts = dataset[\"type\"].value_counts()\n",
    "transactions = type_counts.index\n",
    "quantity = type_counts.values\n",
    "\n",
    "plt.figure(figsize = (6,6))\n",
    "plt.pie(quantity, labels = transactions, autopct = '%1.1f%%', \n",
    "        startangle = 90, pctdistance = 0.85,\n",
    "        colors = sns.color_palette(\"Set3\"), wedgeprops = {'edgecolor':\n",
    "                                                         'black'})\n",
    "\n",
    "centre_circle = plt.Circle((0,0), 0.70, fc = 'white')\n",
    "fig = plt.gcf()\n",
    "fig.gca().add_artist(centre_circle)\n",
    "\n",
    "plt.tight_layout()\n",
    "plt.title(\"Distribution of Transaction Type\")\n",
    "plt.show()"
   ]
  },
  {
   "cell_type": "code",
   "execution_count": null,
   "id": "c804df7e",
   "metadata": {},
   "outputs": [],
   "source": [
    "sns.countplot(x='isFraud', data=dataset)\n",
    "plt.title('Distribution of Fraudulent vs. Non-Fraudulent Transactions')\n",
    "plt.show()"
   ]
  },
  {
   "cell_type": "code",
   "execution_count": null,
   "id": "e3ff50a3",
   "metadata": {},
   "outputs": [],
   "source": [
    "plt.figure(figsize=(10, 6))\n",
    "sns.boxplot(x='isFraud', y='amount', data=dataset)\n",
    "plt.title('Transaction Amount Distribution for Fraudulent vs. Non-Fraudulent Transactions')\n",
    "plt.show()"
   ]
  },
  {
   "cell_type": "code",
   "execution_count": null,
   "id": "3978551e",
   "metadata": {
    "scrolled": false
   },
   "outputs": [],
   "source": [
    "plt.figure(figsize=(8, 6))\n",
    "sns.countplot(x='type', hue='isFraud', data=dataset)\n",
    "plt.title('Transaction Type vs. Fraudulent Transactions')\n",
    "plt.show()"
   ]
  },
  {
   "cell_type": "code",
   "execution_count": null,
   "id": "5954b331",
   "metadata": {},
   "outputs": [],
   "source": [
    "plt.figure(figsize=(10, 6))\n",
    "sns.boxplot(x='type', y='amount', data=dataset)\n",
    "plt.title('Transaction Amount Distribution by Type')\n",
    "plt.show()"
   ]
  },
  {
   "cell_type": "markdown",
   "id": "7e3528a2",
   "metadata": {},
   "source": [
    "#### Let's look at the Correlation:"
   ]
  },
  {
   "cell_type": "code",
   "execution_count": null,
   "id": "b09e956b",
   "metadata": {},
   "outputs": [],
   "source": [
    "correlation = dataset.corr()\n",
    "print(correlation[\"isFraud\"].sort_values(ascending = False))"
   ]
  },
  {
   "cell_type": "markdown",
   "id": "090cc2c8",
   "metadata": {},
   "source": [
    "#### Now, let's convert the categorical variables:"
   ]
  },
  {
   "cell_type": "code",
   "execution_count": null,
   "id": "89bbf345",
   "metadata": {},
   "outputs": [],
   "source": [
    "from sklearn.preprocessing import LabelEncoder\n",
    "\n",
    "# Perform label encoding on the 'type' column\n",
    "label_encoder = LabelEncoder()\n",
    "dataset['type'] = label_encoder.fit_transform(dataset['type'])\n",
    "\n",
    "# Transform the values of the 'isFraud' column to \"No Fraud\" and \"Fraud\"\n",
    "dataset[\"isFraud\"] = dataset[\"isFraud\"].map({0: \"No Fraud\", 1: \"Fraud\"})\n",
    "\n",
    "print(dataset.head())"
   ]
  },
  {
   "cell_type": "markdown",
   "id": "0b0ebfed",
   "metadata": {},
   "source": [
    "### Without wasting time, let's split the data as per training and test, and design the models also:"
   ]
  },
  {
   "cell_type": "code",
   "execution_count": null,
   "id": "91127ceb",
   "metadata": {},
   "outputs": [],
   "source": [
    "from sklearn.model_selection import train_test_split\n",
    "from sklearn.tree import DecisionTreeClassifier\n",
    "from xgboost import XGBClassifier\n",
    "from lightgbm import LGBMClassifier\n",
    "from catboost import CatBoostClassifier\n",
    "from sklearn.metrics import confusion_matrix\n",
    "\n",
    "# Splitting the dataset\n",
    "x = np.array(dataset[[\"type\", \"amount\", \"oldbalanceOrg\", \"newbalanceOrig\"]])\n",
    "y = np.array(dataset[[\"isFraud\"]])\n",
    "\n",
    "# Convert 'No Fraud' to 0 and 'Fraud' to 1 in y\n",
    "y_binary = (y == 'Fraud').astype(int)\n",
    "\n",
    "# Splitting the dataset into train and test sets\n",
    "xtrain, xtest, ytrain_binary, ytest_binary = train_test_split(x, y_binary, test_size=0.10, random_state=42)\n",
    "\n",
    "# Training the DecisionTreeClassifier\n",
    "dt_model = DecisionTreeClassifier()\n",
    "dt_model.fit(xtrain, ytrain_binary)\n",
    "dt_accuracy = dt_model.score(xtest, ytest_binary)\n",
    "dt_preds = dt_model.predict(xtest)\n",
    "dt_cm = confusion_matrix(ytest_binary, dt_preds)\n",
    "\n",
    "# Training the XGBoost model\n",
    "xgb_model = XGBClassifier()\n",
    "xgb_model.fit(xtrain, ytrain_binary)\n",
    "xgb_accuracy = xgb_model.score(xtest, ytest_binary)\n",
    "xgb_preds = xgb_model.predict(xtest)\n",
    "xgb_cm = confusion_matrix(ytest_binary, xgb_preds)\n",
    "\n",
    "# Training the LGBM model\n",
    "lgb_model = LGBMClassifier()\n",
    "lgb_model.fit(xtrain, ytrain_binary)\n",
    "lgb_accuracy = lgb_model.score(xtest, ytest_binary)\n",
    "lgb_preds = lgb_model.predict(xtest)\n",
    "lgb_cm = confusion_matrix(ytest_binary, lgb_preds)\n",
    "\n",
    "# Training the CatBoost model\n",
    "cat_model = CatBoostClassifier()\n",
    "cat_model.fit(xtrain, ytrain_binary)\n",
    "cat_accuracy = cat_model.score(xtest, ytest_binary)\n",
    "cat_preds = cat_model.predict(xtest)\n",
    "cat_cm = confusion_matrix(ytest_binary, cat_preds)\n",
    "\n",
    "# Print the accuracy and confusion matrix for each model\n",
    "print(\"DecisionTree Accuracy:\", dt_accuracy)\n",
    "print(\"DecisionTree Confusion Matrix:\")\n",
    "print(dt_cm)\n",
    "\n",
    "print(\"XGBoost Accuracy:\", xgb_accuracy)\n",
    "print(\"XGBoost Confusion Matrix:\")\n",
    "print(xgb_cm)\n",
    "\n",
    "print(\"LGBM Accuracy:\", lgb_accuracy)\n",
    "print(\"LGBM Confusion Matrix:\")\n",
    "print(lgb_cm)\n",
    "\n",
    "print(\"CatBoost Accuracy:\", cat_accuracy)\n",
    "print(\"CatBoost Confusion Matrix:\")\n",
    "print(cat_cm)"
   ]
  },
  {
   "cell_type": "markdown",
   "id": "6bc25877",
   "metadata": {},
   "source": [
    "#### Let's compare the accuracy scores to get the best model:"
   ]
  },
  {
   "cell_type": "code",
   "execution_count": null,
   "id": "4b735652",
   "metadata": {},
   "outputs": [],
   "source": [
    "# Dictionary to store model names and accuracies\n",
    "model_accuracies = {}\n",
    "\n",
    "# DecisionTree\n",
    "dt_accuracy = dt_model.score(xtest, ytest_binary)\n",
    "model_accuracies['DecisionTree'] = dt_accuracy\n",
    "\n",
    "# XGBoost\n",
    "xgb_accuracy = xgb_model.score(xtest, ytest_binary)\n",
    "model_accuracies['XGBoost'] = xgb_accuracy\n",
    "\n",
    "# LGBM\n",
    "lgb_accuracy = lgb_model.score(xtest, ytest_binary)\n",
    "model_accuracies['LGBM'] = lgb_accuracy\n",
    "\n",
    "# CatBoost\n",
    "cat_accuracy = cat_model.score(xtest, ytest_binary)\n",
    "model_accuracies['CatBoost'] = cat_accuracy\n",
    "\n",
    "# Print model accuracies\n",
    "for model, accuracy in model_accuracies.items():\n",
    "    print(f\"{model} Accuracy: {accuracy}\")\n",
    "\n",
    "# Find the model with the highest accuracy\n",
    "best_model = max(model_accuracies, key=model_accuracies.get)\n",
    "print(f\"\\nThe best model is: {best_model} with accuracy: {model_accuracies[best_model]}\")"
   ]
  },
  {
   "cell_type": "markdown",
   "id": "f1402951",
   "metadata": {},
   "source": [
    "### Using the best model to predict a value:"
   ]
  },
  {
   "cell_type": "code",
   "execution_count": null,
   "id": "1ef8c8fb",
   "metadata": {},
   "outputs": [],
   "source": [
    "# Assuming DecisionTree is the best model\n",
    "best_model = dt_model\n",
    "\n",
    "# Features for prediction\n",
    "features = np.array([[1, 8900.2, 8990.2, 0.0]])\n",
    "\n",
    "# Predict using the best model\n",
    "prediction = best_model.predict(features)\n",
    "\n",
    "# Convert the prediction to the corresponding label (fraud or not fraud)\n",
    "if prediction[0] == 1:\n",
    "    label = 'Fraud'\n",
    "else:\n",
    "    label = 'Not Fraud'\n",
    "\n",
    "# Print the result\n",
    "print(\"Prediction:\", label)"
   ]
  },
  {
   "cell_type": "markdown",
   "id": "0b5dab8c",
   "metadata": {},
   "source": [
    "# Conclusion:"
   ]
  },
  {
   "cell_type": "markdown",
   "id": "7895a80e",
   "metadata": {},
   "source": [
    "In conclusion, this project demonstrates the development of an online payment fraud detection model using machine learning techniques. The selected model can effectively predict fraudulent transactions, helping to enhance security and reduce potential financial losses in online payment systems."
   ]
  }
 ],
 "metadata": {
  "kernelspec": {
   "display_name": "Python 3 (ipykernel)",
   "language": "python",
   "name": "python3"
  },
  "language_info": {
   "codemirror_mode": {
    "name": "ipython",
    "version": 3
   },
   "file_extension": ".py",
   "mimetype": "text/x-python",
   "name": "python",
   "nbconvert_exporter": "python",
   "pygments_lexer": "ipython3",
   "version": "3.11.3"
  }
 },
 "nbformat": 4,
 "nbformat_minor": 5
}
