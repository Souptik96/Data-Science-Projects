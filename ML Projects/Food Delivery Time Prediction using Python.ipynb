{
 "cells": [
  {
   "cell_type": "markdown",
   "id": "7040ad3f",
   "metadata": {},
   "source": [
    "### Some background:\n",
    "Food Delivery services like Zomato and Swiggy need to show the accurate time it will take to deliver your order to keep transparency with their customers."
   ]
  },
  {
   "cell_type": "markdown",
   "id": "a8e8c3aa",
   "metadata": {},
   "source": [
    "### Problem Statement:\n",
    "Food Delivery Time Prediction\n",
    "To predict the food delivery time in real-time, we need to calculate the distance between the food preparation point and the point of food consumption. \n",
    "After finding the distance between the restaurant and the delivery locations, we need to find relationships between the time taken by delivery partners to deliver the food in the past for the same distance."
   ]
  },
  {
   "cell_type": "code",
   "execution_count": null,
   "id": "7bd8a7ba",
   "metadata": {},
   "outputs": [],
   "source": [
    "import os\n",
    "\n",
    "current_directory = os.getcwd()\n",
    "print(current_directory)"
   ]
  },
  {
   "cell_type": "code",
   "execution_count": null,
   "id": "2a9b85e9",
   "metadata": {},
   "outputs": [],
   "source": [
    "import pandas as pd\n",
    "import numpy as np\n",
    "import plotly.express as px\n",
    "\n",
    "data = pd.read_csv(\"deliverytime.txt\")\n",
    "print(data.head())"
   ]
  },
  {
   "cell_type": "code",
   "execution_count": null,
   "id": "ee679b92",
   "metadata": {},
   "outputs": [],
   "source": [
    "data.info()"
   ]
  },
  {
   "cell_type": "markdown",
   "id": "1882239f",
   "metadata": {},
   "source": [
    "## Now let’s check for any null values in the dataset:"
   ]
  },
  {
   "cell_type": "code",
   "execution_count": null,
   "id": "44ef75eb",
   "metadata": {},
   "outputs": [],
   "source": [
    "data.isnull().sum()"
   ]
  },
  {
   "cell_type": "markdown",
   "id": "5ce6f5b7",
   "metadata": {},
   "source": [
    "## Wow!! Dataset doesn't have any null values. Let's get going then!"
   ]
  },
  {
   "cell_type": "markdown",
   "id": "325e8ec3",
   "metadata": {},
   "source": [
    "### Calculating Distance Between Two Latitudes and Longitudes\n",
    "The dataset doesn’t show the difference between the restaurant and the delivery location. All we have are the latitude and longitude points of the restaurant and the delivery location."
   ]
  },
  {
   "cell_type": "markdown",
   "id": "47a91fc7",
   "metadata": {},
   "source": [
    "### Hence, we can use the haversine formula to calculate the distance between two locations based on their latitudes and longitudes."
   ]
  },
  {
   "cell_type": "code",
   "execution_count": null,
   "id": "7d0136a0",
   "metadata": {},
   "outputs": [],
   "source": [
    "# Seting the earth's radius (in kilometers)\n",
    "R = 6371\n",
    "\n",
    "# Converting degrees to radians\n",
    "def deg_to_rad(degrees):\n",
    "    return degrees * (np.pi/180)\n",
    "\n",
    "# Function to calculate the distance between two points using the haversine formula\n",
    "def distcalculate(lat1, lon1, lat2, lon2):\n",
    "    d_lat = deg_to_rad(lat2-lat1)\n",
    "    d_lon = deg_to_rad(lon2-lon1)\n",
    "    a = np.sin(d_lat/2)**2 + np.cos(deg_to_rad(lat1)) * np.cos(deg_to_rad(lat2)) * np.sin(d_lon/2)**2\n",
    "    c = 2 * np.arctan2(np.sqrt(a), np.sqrt(1-a))\n",
    "    return R * c\n",
    "  \n",
    "# Calculate the distance between each pair of points\n",
    "data['distance'] = np.nan\n",
    "\n",
    "for i in range(len(data)):\n",
    "    data.loc[i, 'distance'] = distcalculate(data.loc[i, 'Restaurant_latitude'], \n",
    "                                        data.loc[i, 'Restaurant_longitude'], \n",
    "                                        data.loc[i, 'Delivery_location_latitude'], \n",
    "                                        data.loc[i, 'Delivery_location_longitude'])"
   ]
  },
  {
   "cell_type": "markdown",
   "id": "5802f49a",
   "metadata": {},
   "source": [
    "## Let's have a look at the new dataset:"
   ]
  },
  {
   "cell_type": "code",
   "execution_count": null,
   "id": "0a20b265",
   "metadata": {},
   "outputs": [],
   "source": [
    "print(data.head())"
   ]
  },
  {
   "cell_type": "markdown",
   "id": "e9ac3fab",
   "metadata": {},
   "source": [
    "## Let's explore relationship between the distance and time taken to deliver the food:"
   ]
  },
  {
   "cell_type": "code",
   "execution_count": null,
   "id": "15637a07",
   "metadata": {},
   "outputs": [],
   "source": [
    "figure = px.scatter(data_frame = data, \n",
    "                    x=\"distance\",\n",
    "                    y=\"Time_taken(min)\", \n",
    "                    size=\"Time_taken(min)\", \n",
    "                    trendline=\"ols\", \n",
    "                    title = \"Relationship Between Distance and Time Taken\")\n",
    "figure.show()"
   ]
  },
  {
   "cell_type": "markdown",
   "id": "57b055da",
   "metadata": {},
   "source": [
    "There is a consistent relationship between the time taken and the distance travelled to deliver the food. It means that most delivery partners deliver food within 25-30 minutes, regardless of distance."
   ]
  },
  {
   "cell_type": "markdown",
   "id": "55902edc",
   "metadata": {},
   "source": [
    "## Is there any relationship between the age of delivery partner and time taken to deliver the food?"
   ]
  },
  {
   "cell_type": "code",
   "execution_count": null,
   "id": "197e5acb",
   "metadata": {},
   "outputs": [],
   "source": [
    "figure = px.scatter(data_frame = data, \n",
    "                    x=\"Delivery_person_Age\",\n",
    "                    y=\"Time_taken(min)\", \n",
    "                    size=\"Time_taken(min)\", \n",
    "                    color = \"distance\",\n",
    "                    trendline=\"ols\", \n",
    "                    title = \"Relationship Between Time Taken and Age\")\n",
    "figure.show()"
   ]
  },
  {
   "cell_type": "markdown",
   "id": "1a17cf77",
   "metadata": {},
   "source": [
    "## Seems there is! The age of the delivery partner is directly proportional to the time taken for delivery."
   ]
  },
  {
   "cell_type": "markdown",
   "id": "85141c1e",
   "metadata": {},
   "source": [
    "## Next let's check the time taken for delivery vs ratings of delivery partners:"
   ]
  },
  {
   "cell_type": "code",
   "execution_count": null,
   "id": "da5a717d",
   "metadata": {},
   "outputs": [],
   "source": [
    "figure = px.scatter(data_frame = data, \n",
    "                    x=\"Delivery_person_Ratings\",\n",
    "                    y=\"Time_taken(min)\", \n",
    "                    size=\"Time_taken(min)\", \n",
    "                    color = \"distance\",\n",
    "                    trendline=\"ols\", \n",
    "                    title = \"Relationship Between Time Taken and Ratings\")\n",
    "figure.show()"
   ]
  },
  {
   "cell_type": "markdown",
   "id": "788fcf4a",
   "metadata": {},
   "source": [
    "## So, the relationship here is inverse = delivery partners with higher ratings take less time to deliver the food compared to partners with low ratings.\n",
    "### So much obvious!!"
   ]
  },
  {
   "cell_type": "markdown",
   "id": "c68719b3",
   "metadata": {},
   "source": [
    "## Can there be something between the type of vehicle used to deliver the food and the type of food?"
   ]
  },
  {
   "cell_type": "code",
   "execution_count": null,
   "id": "7c0258a6",
   "metadata": {},
   "outputs": [],
   "source": [
    "fig = px.box(data, \n",
    "             x=\"Type_of_vehicle\",\n",
    "             y=\"Time_taken(min)\", \n",
    "             color=\"Type_of_order\")\n",
    "fig.show()"
   ]
  },
  {
   "cell_type": "markdown",
   "id": "16e7ec86",
   "metadata": {},
   "source": [
    "### Fortunately, there isn't much! "
   ]
  },
  {
   "cell_type": "markdown",
   "id": "0759188d",
   "metadata": {},
   "source": [
    "## Hence, from the EDA, the evident features that contribute most to the food delivery time based on our analysis are:\n",
    "## - Age of the delivery partner\n",
    "## - Ratings of the delivery partner\n",
    "## - Distance between the restaurant and the delivery location."
   ]
  },
  {
   "cell_type": "markdown",
   "id": "6f21ff5f",
   "metadata": {},
   "source": [
    "## Let's predict the time to be taken for delivery:"
   ]
  },
  {
   "cell_type": "markdown",
   "id": "eb698ec1",
   "metadata": {},
   "source": [
    "### We will use a LSTM neural network model for predictions:"
   ]
  },
  {
   "cell_type": "code",
   "execution_count": null,
   "id": "87832488",
   "metadata": {
    "scrolled": true
   },
   "outputs": [],
   "source": [
    "pip install keras"
   ]
  },
  {
   "cell_type": "code",
   "execution_count": null,
   "id": "eb831df6",
   "metadata": {},
   "outputs": [],
   "source": [
    "pip install tensorflow"
   ]
  },
  {
   "cell_type": "code",
   "execution_count": null,
   "id": "ed3a5d95",
   "metadata": {
    "scrolled": true
   },
   "outputs": [],
   "source": [
    "from sklearn.model_selection import train_test_split\n",
    "x = np.array(data[[\"Delivery_person_Age\", \n",
    "                   \"Delivery_person_Ratings\", \n",
    "                   \"distance\"]])\n",
    "y = np.array(data[[\"Time_taken(min)\"]])\n",
    "xtrain, xtest, ytrain, ytest = train_test_split(x, y, \n",
    "                                                test_size=0.20, \n",
    "                                                random_state=42)\n",
    "\n",
    "# creating the LSTM neural network model\n",
    "from tensorflow.keras.models import Sequential\n",
    "from tensorflow.keras.layers import Dense, LSTM\n",
    "model = Sequential()\n",
    "model.add(LSTM(128, return_sequences=True, input_shape= (xtrain.shape[1], 1)))\n",
    "model.add(LSTM(64, return_sequences=False))\n",
    "model.add(Dense(25))\n",
    "model.add(Dense(1))\n",
    "model.summary()"
   ]
  },
  {
   "cell_type": "code",
   "execution_count": null,
   "id": "0086e832",
   "metadata": {},
   "outputs": [],
   "source": [
    "# training the model\n",
    "model.compile(optimizer='adam', loss='mean_squared_error')\n",
    "model.fit(xtrain, ytrain, batch_size=1, epochs=9)"
   ]
  },
  {
   "cell_type": "markdown",
   "id": "97fc0726",
   "metadata": {},
   "source": [
    "## It's time to test the model's performance:"
   ]
  },
  {
   "cell_type": "code",
   "execution_count": null,
   "id": "5b1ab588",
   "metadata": {},
   "outputs": [],
   "source": [
    "print(\"Food Delivery Time Prediction\")\n",
    "a = int(input(\"Age of Delivery Partner: \"))\n",
    "b = float(input(\"Ratings of Previous Deliveries: \"))\n",
    "c = int(input(\"Total Distance: \"))\n",
    "\n",
    "features = np.array([[a, b, c]])\n",
    "print(\"Predicted Delivery Time in Minutes = \", model.predict(features))"
   ]
  },
  {
   "cell_type": "markdown",
   "id": "5e11c982",
   "metadata": {},
   "source": [
    "# Conclusion:"
   ]
  },
  {
   "cell_type": "markdown",
   "id": "2abe3425",
   "metadata": {},
   "source": [
    "## In order to make real-time predictions for food delivery time, it is important to determine the distance between the food preparation location and the delivery destination. Once the distance between the restaurant and the delivery locations is obtained, the next step is to identify the correlations between the historical delivery times for the same distance, as recorded by the delivery partners. This analysis will help establish patterns and relationships that can be used to predict future food delivery times accurately."
   ]
  }
 ],
 "metadata": {
  "kernelspec": {
   "display_name": "Python 3 (ipykernel)",
   "language": "python",
   "name": "python3"
  },
  "language_info": {
   "codemirror_mode": {
    "name": "ipython",
    "version": 3
   },
   "file_extension": ".py",
   "mimetype": "text/x-python",
   "name": "python",
   "nbconvert_exporter": "python",
   "pygments_lexer": "ipython3",
   "version": "3.10.9"
  }
 },
 "nbformat": 4,
 "nbformat_minor": 5
}
